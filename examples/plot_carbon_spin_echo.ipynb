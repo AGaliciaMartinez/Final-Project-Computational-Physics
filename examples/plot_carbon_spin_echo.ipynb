{
 "cells": [
  {
   "cell_type": "code",
   "execution_count": 8,
   "metadata": {},
   "outputs": [
    {
     "name": "stdout",
     "output_type": "stream",
     "text": [
      "Populating the interactive namespace from numpy and matplotlib\n"
     ]
    }
   ],
   "source": [
    "%pylab inline\n",
    "import matplotlib as mpl\n",
    "import sys\n",
    "sys.path.append('../scripts/')\n",
    "from plot_utils import set_size\n",
    "\n",
    "nice_fonts = {\n",
    "    # Use LaTeX to write all text\n",
    "    \"text.usetex\": True,\n",
    "    \"font.family\": \"serif\",\n",
    "    # Use 10pt font in plots, to match 10pt font in document\n",
    "    \"axes.labelsize\": 10,\n",
    "    \"font.size\": 10,\n",
    "    # Make the legend/label fonts a little smaller\n",
    "    \"legend.fontsize\": 8,\n",
    "    \"xtick.labelsize\": 8,\n",
    "    \"ytick.labelsize\": 8,\n",
    "}\n",
    "\n",
    "mpl.rcParams.update(nice_fonts)"
   ]
  },
  {
   "cell_type": "code",
   "execution_count": 5,
   "metadata": {},
   "outputs": [],
   "source": [
    "%matplotlib widget\n",
    "\n",
    "data2 = np.load('../script_output/protecting_carbon_sequences_2.npz')\n",
    "# data4 = np.load('../script_output/protecting_carbon_sequences_4.npz')\n",
    "# data8 = np.load('../script_output/protecting_carbon_sequences_8.npz')\n",
    "# data16 = np.load('../script_output/protecting_carbon_sequences_16.npz')\n",
    "\n",
    "time2 = data2['time']\n",
    "exp_mean2 = data2['exp_mean']\n",
    "exp_std2 = data2['exp_std']\n",
    "\n",
    "# time4 = data4['time']\n",
    "# exp_mean4 = data4['exp_mean']\n",
    "# exp_std4 = data4['exp_std']\n",
    "\n",
    "# time8 = data8['time']\n",
    "# exp_mean8 = data8['exp_mean']\n",
    "# exp_std8 = data8['exp_std']\n",
    "\n",
    "# time16 = data16['time']\n",
    "# exp_mean16 = data16['exp_mean']\n",
    "# exp_std16 = data16['exp_std']"
   ]
  },
  {
   "cell_type": "code",
   "execution_count": 14,
   "metadata": {},
   "outputs": [
    {
     "name": "stdout",
     "output_type": "stream",
     "text": [
      "CPU times: user 9 µs, sys: 1 µs, total: 10 µs\n",
      "Wall time: 16.5 µs\n"
     ]
    },
    {
     "name": "stderr",
     "output_type": "stream",
     "text": [
      "/opt/conda/lib/python3.8/site-packages/numpy/core/_asarray.py:85: ComplexWarning: Casting complex values to real discards the imaginary part\n",
      "  return array(a, dtype, copy=False, order=order)\n"
     ]
    },
    {
     "data": {
      "image/png": "[encoded data removed]",
      "text/plain": [
       "<Figure size 428.394x264.762 with 1 Axes>"
      ]
     },
     "metadata": {
      "needs_background": "light"
     },
     "output_type": "display_data"
    }
   ],
   "source": [
    "%time\n",
    "fig, ax = plt.subplots(1, 1, figsize=set_size(width='report_full'))\n",
    "\n",
    "plt.figure(1)\n",
    "plt.errorbar(time2, exp_mean2, exp_std2, label='N=2')\n",
    "# plt.errorbar(time4, exp_mean4, exp_std4, label='N=4')\n",
    "# plt.errorbar(time8, exp_mean8, exp_std8, label='N=8')\n",
    "# plt.errorbar(time16, exp_mean16, exp_std16, label='N=16')\n",
    "plt.title('Dynamical Decoupling of Carbon atoms')\n",
    "plt.ylabel('Projection on x-axis')\n",
    "plt.xlabel('Time')\n",
    "plt.legend()\n",
    "plt.show()"
   ]
  },
  {
   "cell_type": "code",
   "execution_count": null,
   "metadata": {},
   "outputs": [],
   "source": []
  }
 ],
 "metadata": {
  "kernelspec": {
   "display_name": "Python 3",
   "language": "python",
   "name": "python3"
  },
  "language_info": {
   "codemirror_mode": {
    "name": "ipython",
    "version": 3
   },
   "file_extension": ".py",
   "mimetype": "text/x-python",
   "name": "python",
   "nbconvert_exporter": "python",
   "pygments_lexer": "ipython3",
   "version": "3.8.2"
  }
 },
 "nbformat": 4,
 "nbformat_minor": 4
}
