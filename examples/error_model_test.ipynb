{
 "cells": [
  {
   "cell_type": "code",
   "execution_count": 1,
   "metadata": {},
   "outputs": [
    {
     "name": "stdout",
     "output_type": "stream",
     "text": [
      "Populating the interactive namespace from numpy and matplotlib\n"
     ]
    }
   ],
   "source": [
    "%pylab inline"
   ]
  },
  {
   "cell_type": "code",
   "execution_count": 2,
   "metadata": {},
   "outputs": [],
   "source": [
    "import parmap\n",
    "from itertools import product\n",
    "import sys\n",
    "sys.path.append('../scripts/')\n",
    "sys.path.append('../examples/')\n",
    "\n",
    "from lindblad_solver import lindblad_solver\n",
    "from utils import sx, sy, sz, si, init_qubit, normal_autocorr_generator\n",
    "from dynamical_decoupling import dynamical_decoupling\n",
    "from matplotlib import pyplot as plt\n",
    "from scipy import optimize"
   ]
  },
  {
   "cell_type": "code",
   "execution_count": 3,
   "metadata": {},
   "outputs": [],
   "source": [
    "def H_noise(t, delta_w_iterator):\n",
    "    return -next(delta_w_iterator)*sz\n",
    "\n",
    "def H_aux(t):\n",
    "    return np.zeros((2,2),dtype=complex)\n",
    "def add_noise(H,noise_matrix,mu,sigma,corr_time, dt,  seed):\n",
    "    dw_it = normal_autocorr_generator(mu, sigma, corr_time / dt / 2, seed)\n",
    "    def H_new(t,*args):\n",
    "        return H(t,*args) + noise_matrix*next(dw_it)\n",
    "    return H_new\n"
   ]
  },
  {
   "cell_type": "code",
   "execution_count": 24,
   "metadata": {},
   "outputs": [],
   "source": [
    "def dd_parallel_noisy(H,tau_list, dt, N, mu, sigma, corr_time, repetitions):\n",
    "    seed_list = np.arange(repetitions)\n",
    "\n",
    "    values = list(product([H], [tau_list], dt, N, mu, sigma, corr_time, seed_list))\n",
    "    results = parmap.starmap(dd_wrapper, values, pm_chunksize=4,pm_processes =4, pm_pbar=True)\n",
    "    results = np.array(results)\n",
    "\n",
    "    # Adapt results to input\n",
    "    len_parameters = len(N) * len(dt) * len(mu) * len(sigma) * len(corr_time) \n",
    "    print(len_parameters)\n",
    "    results = results.reshape((len_parameters, repetitions, tau_list.shape[0]))\n",
    "\n",
    "    results_mean = results.mean(axis=-2)\n",
    "    results_std = results.std(axis=-2) / np.sqrt(repetitions - 1)\n",
    "\n",
    "    return results_mean,results_std\n",
    "\n",
    "\n",
    "\n",
    "def dd_wrapper(H, tau_list, dt, N, mu, sigma, corr_time, seed):\n",
    "    e = []\n",
    "\n",
    "    # Initial state\n",
    "    rho_0 = init_qubit([1, 0, 0])\n",
    "\n",
    "    for tau_final in tau_list:\n",
    "        _dt = min(dt,tau_final/5)\n",
    "        tau = np.arange(tau_final, step=_dt)\n",
    "        dw_it = normal_autocorr_generator(mu, sigma, corr_time / tau_final*tau.shape[0] / 2, seed)\n",
    "        # H = add_noise(H,sz,mu, sigma, corr_time, _dt,  seed)\n",
    "\n",
    "        rho = dynamical_decoupling(H, rho_0, N, tau_final, tau.shape[0], dw_it)\n",
    "        e.append(np.trace(rho@sx)/2+1/2)\n",
    "    return e\n",
    "\n",
    "\n",
    "\n",
    "def dd_noise(H, tau_list, dt, N, mu, sigma, corr_time, seed):\n",
    "    e = []\n",
    "    \n",
    "    #We add noise in Z componen\n",
    "    noise_matrix = sz\n",
    "    # Initial state\n",
    "    rho_0 = init_qubit([1, 0, 0])\n",
    "\n",
    "    for tau_final in tau_list:\n",
    "        H = add_noise(H,mu,sigma,corr_time,dt, noise_matrix,seed)\n",
    "        tau = np.arange(tau_final, step=dt)\n",
    "        e.append(dynamical_decoupling(H, rho_0, N, tau_final, tau.shape[0]))\n",
    "    return e"
   ]
  },
  {
   "cell_type": "code",
   "execution_count": 32,
   "metadata": {},
   "outputs": [
    {
     "name": "stdout",
     "output_type": "stream",
     "text": [
      "26.566464229565273\n",
      "[ 1.          1.12201845  1.25892541  1.41253754  1.58489319  1.77827941\n",
      "  1.99526231  2.23872114  2.51188643  2.81838293  3.16227766  3.54813389\n",
      "  3.98107171  4.46683592  5.01187234  5.62341325  6.30957344  7.07945784\n",
      "  7.94328235  8.91250938 10.         11.22018454 12.58925412 14.12537545\n",
      " 15.84893192]\n"
     ]
    },
    {
     "name": "stderr",
     "output_type": "stream",
     "text": [
      "100%|██████████| 200/200 [00:06<00:00, 33.22it/s]"
     ]
    },
    {
     "name": "stdout",
     "output_type": "stream",
     "text": [
      "2\n"
     ]
    },
    {
     "name": "stderr",
     "output_type": "stream",
     "text": [
      "\n"
     ]
    }
   ],
   "source": [
    "dt = [0.2] #3 Seems the right value.Higher gets crazy and lower does not really improve anything\n",
    "N = [1]\n",
    "sigma = [0.8,0.6]\n",
    "mu = [0]\n",
    "corr_time = [1000]\n",
    "print(np.cbrt(12*corr_time[0]/sigma[0]**2))\n",
    "repetitions = 100\n",
    "n_tau = 25\n",
    "tau_list = np.logspace(0,1.2,n_tau)\n",
    "print(tau_list)\n",
    "mean,std = dd_parallel_noisy(H_noise,tau_list, dt, N, mu, sigma, corr_time, repetitions)"
   ]
  },
  {
   "cell_type": "markdown",
   "metadata": {},
   "source": [
    "What we see in this simulation is that the increase of sigma goes as expected. It decreases the value of $T_2$ as long as $\\sigma\\tau_c >>1$."
   ]
  },
  {
   "cell_type": "code",
   "execution_count": 34,
   "metadata": {},
   "outputs": [
    {
     "name": "stderr",
     "output_type": "stream",
     "text": [
      "/opt/conda/lib/python3.8/site-packages/numpy/core/_asarray.py:85: ComplexWarning: Casting complex values to real discards the imaginary part\n",
      "  return array(a, dtype, copy=False, order=order)\n",
      "/opt/conda/lib/python3.8/site-packages/numpy/core/_asarray.py:85: ComplexWarning: Casting complex values to real discards the imaginary part\n",
      "  return array(a, dtype, copy=False, order=order)\n"
     ]
    },
    {
     "name": "stdout",
     "output_type": "stream",
     "text": [
      "[0.40402271] [[0.00055093]]\n",
      "[0.4066459] [[0.00038343]]\n"
     ]
    },
    {
     "data": {
      "image/png": "[encoded data removed]",
      "text/plain": [
       "<Figure size 432x288 with 1 Axes>"
      ]
     },
     "metadata": {
      "needs_background": "light"
     },
     "output_type": "display_data"
    }
   ],
   "source": [
    "%notebook inline\n",
    "plt.figure()\n",
    "t = 2*tau_list\n",
    "plt.errorbar(t,(mean[0, :]), (std[0, :]))\n",
    "plt.errorbar(t, mean[1, :], std[1, :])\n",
    "#plt.errorbar(t, mean[2, :], std[1, :])\n",
    "\n",
    "def f(t,T2):\n",
    "    return 1/2 + np.exp(-(t/T2)**3)/2\n",
    "\n",
    "T_2 =[]\n",
    "for i in range(2):\n",
    "    s = sigma[i]\n",
    "    c_time = corr_time[0]\n",
    "    T2 = np.cbrt(12*c_time/s**2)\n",
    "    \n",
    "    guess = optimize.curve_fit(f, t, mean[i,:])[0]\n",
    "    guess_std = optimize.curve_fit(f, t, mean[i,:])[1]\n",
    "\n",
    "    \n",
    "    y = 1/2 + 1/2 * np.exp(-(t/guess)**3)\n",
    "    plt.plot(t,y)\n",
    "\n",
    "    print(guess/T2 , guess_std/T2)\n",
    "\n",
    "\n",
    "\n",
    "\n",
    "plt.xscale('log')\n",
    "#plt.ylim(0.45,1)\n",
    "\n",
    "plt.show()"
   ]
  },
  {
   "cell_type": "code",
   "execution_count": 29,
   "metadata": {},
   "outputs": [
    {
     "name": "stdout",
     "output_type": "stream",
     "text": [
      "[[1.6736637380011534]\n",
      " [1.5733851499841125]]\n",
      "[[1.5936075394035862]\n",
      " [1.550976712452603]]\n"
     ]
    }
   ],
   "source": []
  },
  {
   "cell_type": "code",
   "execution_count": 40,
   "metadata": {},
   "outputs": [
    {
     "name": "stdout",
     "output_type": "stream",
     "text": [
      "[1.00000000e+01 3.16227766e+04]\n"
     ]
    },
    {
     "name": "stderr",
     "output_type": "stream",
     "text": [
      "12it [00:03,  3.43it/s]                       "
     ]
    },
    {
     "name": "stdout",
     "output_type": "stream",
     "text": [
      "1\n",
      "../script_output/nv_deco_1\n"
     ]
    },
    {
     "name": "stderr",
     "output_type": "stream",
     "text": [
      "\n",
      "12it [00:00, 4096.33it/s]             \n"
     ]
    },
    {
     "ename": "ValueError",
     "evalue": "Number of samples, -1, must be non-negative.",
     "output_type": "error",
     "traceback": [
      "\u001b[0;31m---------------------------------------------------------------------------\u001b[0m",
      "\u001b[0;31mRemoteTraceback\u001b[0m                           Traceback (most recent call last)",
      "\u001b[0;31mRemoteTraceback\u001b[0m: \n\"\"\"\nTraceback (most recent call last):\n  File \"/opt/conda/lib/python3.8/multiprocessing/pool.py\", line 125, in worker\n    result = (True, func(*args, **kwds))\n  File \"/opt/conda/lib/python3.8/multiprocessing/pool.py\", line 48, in mapstar\n    return list(map(*args))\n  File \"/opt/conda/lib/python3.8/site-packages/parmap/parmap.py\", line 116, in _func_star_many\n    return func_items_args[0](*list(func_items_args[1]) + func_items_args[2],\n  File \"<ipython-input-24-00f08364337d>\", line 32, in dd_wrapper\n    rho = dynamical_decoupling(H, rho_0, N, tau_final, tau.shape[0], dw_it)\n  File \"../scripts/dynamical_decoupling.py\", line 27, in dynamical_decoupling\n    time_total = np.linspace(0, 2 * N * tau, 2 * N * (steps - 1) - 1)\n  File \"<__array_function__ internals>\", line 5, in linspace\n  File \"/opt/conda/lib/python3.8/site-packages/numpy/core/function_base.py\", line 124, in linspace\n    raise ValueError(\"Number of samples, %s, must be non-negative.\" % num)\nValueError: Number of samples, -1, must be non-negative.\n\"\"\"",
      "\nThe above exception was the direct cause of the following exception:\n",
      "\u001b[0;31mValueError\u001b[0m                                Traceback (most recent call last)",
      "\u001b[0;32m<ipython-input-40-cd14a6115333>\u001b[0m in \u001b[0;36m<module>\u001b[0;34m\u001b[0m\n\u001b[1;32m     13\u001b[0m \u001b[0;32mfor\u001b[0m \u001b[0mn_rot\u001b[0m \u001b[0;32min\u001b[0m \u001b[0mN\u001b[0m\u001b[0;34m:\u001b[0m\u001b[0;34m\u001b[0m\u001b[0;34m\u001b[0m\u001b[0m\n\u001b[1;32m     14\u001b[0m     \u001b[0mtau_list\u001b[0m \u001b[0;34m=\u001b[0m \u001b[0mt_list\u001b[0m\u001b[0;34m/\u001b[0m\u001b[0;36m2\u001b[0m\u001b[0;34m/\u001b[0m\u001b[0mn_rot\u001b[0m\u001b[0;34m\u001b[0m\u001b[0;34m\u001b[0m\u001b[0m\n\u001b[0;32m---> 15\u001b[0;31m     \u001b[0mnew_result\u001b[0m \u001b[0;34m=\u001b[0m \u001b[0mdd_parallel_noisy\u001b[0m\u001b[0;34m(\u001b[0m\u001b[0mH_noise\u001b[0m\u001b[0;34m,\u001b[0m\u001b[0mtau_list\u001b[0m\u001b[0;34m,\u001b[0m \u001b[0mdt\u001b[0m\u001b[0;34m,\u001b[0m \u001b[0;34m[\u001b[0m\u001b[0mn_rot\u001b[0m\u001b[0;34m]\u001b[0m\u001b[0;34m,\u001b[0m \u001b[0mmu\u001b[0m\u001b[0;34m,\u001b[0m \u001b[0msigma\u001b[0m\u001b[0;34m,\u001b[0m \u001b[0mcorr_time\u001b[0m\u001b[0;34m,\u001b[0m \u001b[0mrepetitions\u001b[0m\u001b[0;34m)\u001b[0m\u001b[0;34m\u001b[0m\u001b[0;34m\u001b[0m\u001b[0m\n\u001b[0m\u001b[1;32m     16\u001b[0m     \u001b[0mresults\u001b[0m\u001b[0;34m.\u001b[0m\u001b[0mappend\u001b[0m\u001b[0;34m(\u001b[0m\u001b[0mnew_result\u001b[0m\u001b[0;34m)\u001b[0m\u001b[0;34m\u001b[0m\u001b[0;34m\u001b[0m\u001b[0m\n\u001b[1;32m     17\u001b[0m     \u001b[0mpath\u001b[0m \u001b[0;34m=\u001b[0m \u001b[0;34m'../script_output/nv_deco_'\u001b[0m\u001b[0;34m+\u001b[0m\u001b[0mstr\u001b[0m\u001b[0;34m(\u001b[0m\u001b[0mn_rot\u001b[0m\u001b[0;34m)\u001b[0m\u001b[0;34m\u001b[0m\u001b[0;34m\u001b[0m\u001b[0m\n",
      "\u001b[0;32m<ipython-input-24-00f08364337d>\u001b[0m in \u001b[0;36mdd_parallel_noisy\u001b[0;34m(H, tau_list, dt, N, mu, sigma, corr_time, repetitions)\u001b[0m\n\u001b[1;32m      3\u001b[0m \u001b[0;34m\u001b[0m\u001b[0m\n\u001b[1;32m      4\u001b[0m     \u001b[0mvalues\u001b[0m \u001b[0;34m=\u001b[0m \u001b[0mlist\u001b[0m\u001b[0;34m(\u001b[0m\u001b[0mproduct\u001b[0m\u001b[0;34m(\u001b[0m\u001b[0;34m[\u001b[0m\u001b[0mH\u001b[0m\u001b[0;34m]\u001b[0m\u001b[0;34m,\u001b[0m \u001b[0;34m[\u001b[0m\u001b[0mtau_list\u001b[0m\u001b[0;34m]\u001b[0m\u001b[0;34m,\u001b[0m \u001b[0mdt\u001b[0m\u001b[0;34m,\u001b[0m \u001b[0mN\u001b[0m\u001b[0;34m,\u001b[0m \u001b[0mmu\u001b[0m\u001b[0;34m,\u001b[0m \u001b[0msigma\u001b[0m\u001b[0;34m,\u001b[0m \u001b[0mcorr_time\u001b[0m\u001b[0;34m,\u001b[0m \u001b[0mseed_list\u001b[0m\u001b[0;34m)\u001b[0m\u001b[0;34m)\u001b[0m\u001b[0;34m\u001b[0m\u001b[0;34m\u001b[0m\u001b[0m\n\u001b[0;32m----> 5\u001b[0;31m     \u001b[0mresults\u001b[0m \u001b[0;34m=\u001b[0m \u001b[0mparmap\u001b[0m\u001b[0;34m.\u001b[0m\u001b[0mstarmap\u001b[0m\u001b[0;34m(\u001b[0m\u001b[0mdd_wrapper\u001b[0m\u001b[0;34m,\u001b[0m \u001b[0mvalues\u001b[0m\u001b[0;34m,\u001b[0m \u001b[0mpm_chunksize\u001b[0m\u001b[0;34m=\u001b[0m\u001b[0;36m4\u001b[0m\u001b[0;34m,\u001b[0m\u001b[0mpm_processes\u001b[0m \u001b[0;34m=\u001b[0m\u001b[0;36m4\u001b[0m\u001b[0;34m,\u001b[0m \u001b[0mpm_pbar\u001b[0m\u001b[0;34m=\u001b[0m\u001b[0;32mTrue\u001b[0m\u001b[0;34m)\u001b[0m\u001b[0;34m\u001b[0m\u001b[0;34m\u001b[0m\u001b[0m\n\u001b[0m\u001b[1;32m      6\u001b[0m     \u001b[0mresults\u001b[0m \u001b[0;34m=\u001b[0m \u001b[0mnp\u001b[0m\u001b[0;34m.\u001b[0m\u001b[0marray\u001b[0m\u001b[0;34m(\u001b[0m\u001b[0mresults\u001b[0m\u001b[0;34m)\u001b[0m\u001b[0;34m\u001b[0m\u001b[0;34m\u001b[0m\u001b[0m\n\u001b[1;32m      7\u001b[0m \u001b[0;34m\u001b[0m\u001b[0m\n",
      "\u001b[0;32m/opt/conda/lib/python3.8/site-packages/parmap/parmap.py\u001b[0m in \u001b[0;36mstarmap\u001b[0;34m(function, iterables, *args, **kwargs)\u001b[0m\n\u001b[1;32m    322\u001b[0m        \u001b[0;34m:\u001b[0m\u001b[0mtype\u001b[0m \u001b[0mpm_pbar\u001b[0m\u001b[0;34m:\u001b[0m \u001b[0mbool\u001b[0m\u001b[0;34m\u001b[0m\u001b[0;34m\u001b[0m\u001b[0m\n\u001b[1;32m    323\u001b[0m     \"\"\"\n\u001b[0;32m--> 324\u001b[0;31m     \u001b[0;32mreturn\u001b[0m \u001b[0m_map_or_starmap\u001b[0m\u001b[0;34m(\u001b[0m\u001b[0mfunction\u001b[0m\u001b[0;34m,\u001b[0m \u001b[0miterables\u001b[0m\u001b[0;34m,\u001b[0m \u001b[0margs\u001b[0m\u001b[0;34m,\u001b[0m \u001b[0mkwargs\u001b[0m\u001b[0;34m,\u001b[0m \u001b[0;34m\"starmap\"\u001b[0m\u001b[0;34m)\u001b[0m\u001b[0;34m\u001b[0m\u001b[0;34m\u001b[0m\u001b[0m\n\u001b[0m\u001b[1;32m    325\u001b[0m \u001b[0;34m\u001b[0m\u001b[0m\n\u001b[1;32m    326\u001b[0m \u001b[0;34m\u001b[0m\u001b[0m\n",
      "\u001b[0;32m/opt/conda/lib/python3.8/site-packages/parmap/parmap.py\u001b[0m in \u001b[0;36m_map_or_starmap\u001b[0;34m(function, iterable, args, kwargs, map_or_starmap)\u001b[0m\n\u001b[1;32m    280\u001b[0m         \u001b[0m_do_pbar\u001b[0m\u001b[0;34m(\u001b[0m\u001b[0mresult\u001b[0m\u001b[0;34m,\u001b[0m \u001b[0mnum_tasks\u001b[0m\u001b[0;34m,\u001b[0m \u001b[0mchunksize\u001b[0m\u001b[0;34m)\u001b[0m\u001b[0;34m\u001b[0m\u001b[0;34m\u001b[0m\u001b[0m\n\u001b[1;32m    281\u001b[0m     \u001b[0;32mfinally\u001b[0m\u001b[0;34m:\u001b[0m\u001b[0;34m\u001b[0m\u001b[0;34m\u001b[0m\u001b[0m\n\u001b[0;32m--> 282\u001b[0;31m         \u001b[0moutput\u001b[0m \u001b[0;34m=\u001b[0m \u001b[0mresult\u001b[0m\u001b[0;34m.\u001b[0m\u001b[0mget\u001b[0m\u001b[0;34m(\u001b[0m\u001b[0;34m)\u001b[0m\u001b[0;34m\u001b[0m\u001b[0;34m\u001b[0m\u001b[0m\n\u001b[0m\u001b[1;32m    283\u001b[0m         \u001b[0;32mif\u001b[0m \u001b[0mclose_pool\u001b[0m\u001b[0;34m:\u001b[0m\u001b[0;34m\u001b[0m\u001b[0;34m\u001b[0m\u001b[0m\n\u001b[1;32m    284\u001b[0m             \u001b[0mpool\u001b[0m\u001b[0;34m.\u001b[0m\u001b[0mjoin\u001b[0m\u001b[0;34m(\u001b[0m\u001b[0;34m)\u001b[0m\u001b[0;34m\u001b[0m\u001b[0;34m\u001b[0m\u001b[0m\n",
      "\u001b[0;32m/opt/conda/lib/python3.8/multiprocessing/pool.py\u001b[0m in \u001b[0;36mget\u001b[0;34m(self, timeout)\u001b[0m\n\u001b[1;32m    766\u001b[0m             \u001b[0;32mreturn\u001b[0m \u001b[0mself\u001b[0m\u001b[0;34m.\u001b[0m\u001b[0m_value\u001b[0m\u001b[0;34m\u001b[0m\u001b[0;34m\u001b[0m\u001b[0m\n\u001b[1;32m    767\u001b[0m         \u001b[0;32melse\u001b[0m\u001b[0;34m:\u001b[0m\u001b[0;34m\u001b[0m\u001b[0;34m\u001b[0m\u001b[0m\n\u001b[0;32m--> 768\u001b[0;31m             \u001b[0;32mraise\u001b[0m \u001b[0mself\u001b[0m\u001b[0;34m.\u001b[0m\u001b[0m_value\u001b[0m\u001b[0;34m\u001b[0m\u001b[0;34m\u001b[0m\u001b[0m\n\u001b[0m\u001b[1;32m    769\u001b[0m \u001b[0;34m\u001b[0m\u001b[0m\n\u001b[1;32m    770\u001b[0m     \u001b[0;32mdef\u001b[0m \u001b[0m_set\u001b[0m\u001b[0;34m(\u001b[0m\u001b[0mself\u001b[0m\u001b[0;34m,\u001b[0m \u001b[0mi\u001b[0m\u001b[0;34m,\u001b[0m \u001b[0mobj\u001b[0m\u001b[0;34m)\u001b[0m\u001b[0;34m:\u001b[0m\u001b[0;34m\u001b[0m\u001b[0;34m\u001b[0m\u001b[0m\n",
      "\u001b[0;31mValueError\u001b[0m: Number of samples, -1, must be non-negative."
     ]
    }
   ],
   "source": [
    "dt = [3]\n",
    "N = [1,8,16]\n",
    "sigma = [0.05]\n",
    "mu = [0]\n",
    "corr_time = [100000]\n",
    "\n",
    "repetitions = 10\n",
    "n_tau = 2\n",
    "# Final t\n",
    "t_list = np.logspace(1,4.5,n_tau)\n",
    "print(t_list)\n",
    "results = []\n",
    "for n_rot in N:\n",
    "    tau_list = t_list/2/n_rot\n",
    "    new_result = dd_parallel_noisy(H_noise,tau_list, dt, [n_rot], mu, sigma, corr_time, repetitions)\n",
    "    results.append(new_result)\n",
    "    path = '../script_output/nv_deco_'+str(n_rot)\n",
    "    print(path)\n",
    "    np.savez(path)"
   ]
  },
  {
   "cell_type": "code",
   "execution_count": 70,
   "metadata": {},
   "outputs": [
    {
     "name": "stdout",
     "output_type": "stream",
     "text": [
      "(1, 50)\n"
     ]
    },
    {
     "data": {
      "application/vnd.jupyter.widget-view+json": {
       "model_id": "cf16049121344dcaafb9b7803ad12598",
       "version_major": 2,
       "version_minor": 0
      },
      "text/plain": [
       "Canvas(toolbar=Toolbar(toolitems=[('Home', 'Reset original view', 'home', 'home'), ('Back', 'Back to previous …"
      ]
     },
     "metadata": {},
     "output_type": "display_data"
    },
    {
     "name": "stdout",
     "output_type": "stream",
     "text": [
      "(1, 50)\n",
      "(1, 50)\n"
     ]
    },
    {
     "name": "stderr",
     "output_type": "stream",
     "text": [
      "/opt/conda/lib/python3.8/site-packages/numpy/core/_asarray.py:85: ComplexWarning: Casting complex values to real discards the imaginary part\n",
      "  return array(a, dtype, copy=False, order=order)\n"
     ]
    },
    {
     "ename": "TypeError",
     "evalue": "'float' object is not subscriptable",
     "output_type": "error",
     "traceback": [
      "\u001b[0;31m---------------------------------------------------------------------------\u001b[0m",
      "\u001b[0;31mTypeError\u001b[0m                                 Traceback (most recent call last)",
      "\u001b[0;32m<ipython-input-70-ba81af9a7236>\u001b[0m in \u001b[0;36m<module>\u001b[0;34m\u001b[0m\n\u001b[1;32m      7\u001b[0m \u001b[0mN\u001b[0m \u001b[0;34m=\u001b[0m \u001b[0;36m4\u001b[0m\u001b[0;34m\u001b[0m\u001b[0;34m\u001b[0m\u001b[0m\n\u001b[1;32m      8\u001b[0m \u001b[0mc_time\u001b[0m \u001b[0;34m=\u001b[0m \u001b[0mcorr_time\u001b[0m\u001b[0;34m[\u001b[0m\u001b[0;36m0\u001b[0m\u001b[0;34m]\u001b[0m\u001b[0;34m/\u001b[0m\u001b[0;36m16\u001b[0m\u001b[0;34m\u001b[0m\u001b[0;34m\u001b[0m\u001b[0m\n\u001b[0;32m----> 9\u001b[0;31m \u001b[0mT2\u001b[0m \u001b[0;34m=\u001b[0m \u001b[0mnp\u001b[0m\u001b[0;34m.\u001b[0m\u001b[0mcbrt\u001b[0m\u001b[0;34m(\u001b[0m\u001b[0;36m12\u001b[0m\u001b[0;34m*\u001b[0m\u001b[0mN\u001b[0m\u001b[0;34m**\u001b[0m\u001b[0;36m2\u001b[0m\u001b[0;34m*\u001b[0m\u001b[0mc_time\u001b[0m\u001b[0;34m/\u001b[0m\u001b[0msigma\u001b[0m\u001b[0;34m[\u001b[0m\u001b[0;36m0\u001b[0m\u001b[0;34m]\u001b[0m\u001b[0;34m**\u001b[0m\u001b[0;36m2\u001b[0m\u001b[0;34m)\u001b[0m\u001b[0;34m\u001b[0m\u001b[0;34m\u001b[0m\u001b[0m\n\u001b[0m\u001b[1;32m     10\u001b[0m \u001b[0my\u001b[0m \u001b[0;34m=\u001b[0m \u001b[0;36m1\u001b[0m\u001b[0;34m/\u001b[0m\u001b[0;36m2\u001b[0m \u001b[0;34m+\u001b[0m \u001b[0;36m1\u001b[0m\u001b[0;34m/\u001b[0m\u001b[0;36m2\u001b[0m \u001b[0;34m*\u001b[0m \u001b[0mnp\u001b[0m\u001b[0;34m.\u001b[0m\u001b[0mexp\u001b[0m\u001b[0;34m(\u001b[0m\u001b[0;34m-\u001b[0m\u001b[0;34m(\u001b[0m\u001b[0mt\u001b[0m\u001b[0;34m/\u001b[0m\u001b[0mT2\u001b[0m\u001b[0;34m)\u001b[0m\u001b[0;34m**\u001b[0m\u001b[0;36m3\u001b[0m\u001b[0;34m)\u001b[0m\u001b[0;34m\u001b[0m\u001b[0;34m\u001b[0m\u001b[0m\n\u001b[1;32m     11\u001b[0m \u001b[0;34m\u001b[0m\u001b[0m\n",
      "\u001b[0;31mTypeError\u001b[0m: 'float' object is not subscriptable"
     ]
    }
   ],
   "source": [
    "%matplotlib widget\n",
    "t = t_list\n",
    "for mean,std in results:  \n",
    "    print(mean.shape)\n",
    "    plt.errorbar(t, mean[0,:], std[0,:])\n",
    "\n",
    "N = 4\n",
    "c_time = corr_time[0]/16\n",
    "T2 = np.cbrt(12*N**2*c_time/sigma[0]**2)\n",
    "y = 1/2 + 1/2 * np.exp(-(t/T2)**3)\n",
    "\n",
    "plt.plot(N*t,y)\n",
    "\n",
    "plt.xscale('log')\n",
    "plt.ylim(0.45,1)\n",
    "\n",
    "plt.show()"
   ]
  },
  {
   "cell_type": "markdown",
   "metadata": {},
   "source": [
    "Realistic case"
   ]
  },
  {
   "cell_type": "code",
   "execution_count": 21,
   "metadata": {},
   "outputs": [
    {
     "name": "stdout",
     "output_type": "stream",
     "text": [
      "[0.1    0.2625 0.425  0.5875 0.75   0.9125 1.075  1.2375 1.4    1.5625\n",
      " 1.725  1.8875 2.05   2.2125 2.375  2.5375 2.7    2.8625 3.025  3.1875\n",
      " 3.35   3.5125 3.675  3.8375 4.    ]\n"
     ]
    },
    {
     "name": "stderr",
     "output_type": "stream",
     "text": [
      "1002it [00:54, 18.47it/s]                         "
     ]
    },
    {
     "name": "stdout",
     "output_type": "stream",
     "text": [
      "1\n"
     ]
    },
    {
     "name": "stderr",
     "output_type": "stream",
     "text": [
      "\n",
      "1002it [00:51, 19.45it/s]                         "
     ]
    },
    {
     "name": "stdout",
     "output_type": "stream",
     "text": [
      "1\n"
     ]
    },
    {
     "name": "stderr",
     "output_type": "stream",
     "text": [
      "\n",
      "1002it [00:55, 18.21it/s]                         "
     ]
    },
    {
     "name": "stdout",
     "output_type": "stream",
     "text": [
      "1\n"
     ]
    },
    {
     "name": "stderr",
     "output_type": "stream",
     "text": [
      "\n",
      "1002it [00:51, 19.53it/s]                         "
     ]
    },
    {
     "name": "stdout",
     "output_type": "stream",
     "text": [
      "1\n"
     ]
    },
    {
     "name": "stderr",
     "output_type": "stream",
     "text": [
      "\n"
     ]
    }
   ],
   "source": [
    "dt = [0.01]\n",
    "N = [1,2,3,4]\n",
    "sigma = [3.3]\n",
    "mu = [0]\n",
    "corr_time = [25]\n",
    "\n",
    "repetitions = 1000\n",
    "n_tau = 25\n",
    "\n",
    "# Final t\n",
    "t_list = np.linspace(0.1,4,n_tau)\n",
    "results = []\n",
    "for n_rot in N:\n",
    "    tau_list = t_list/2/n_rot\n",
    "    results.append(dd_parallel_noisy(H_noise,tau_list, dt, [n_rot], mu, sigma, corr_time, repetitions))"
   ]
  },
  {
   "cell_type": "code",
   "execution_count": 22,
   "metadata": {},
   "outputs": [
    {
     "name": "stdout",
     "output_type": "stream",
     "text": [
      "(1, 25)\n"
     ]
    },
    {
     "data": {
      "application/vnd.jupyter.widget-view+json": {
       "model_id": "6bb456ec6d384488b2f77de8f1bbaf10",
       "version_major": 2,
       "version_minor": 0
      },
      "text/plain": [
       "Canvas(toolbar=Toolbar(toolitems=[('Home', 'Reset original view', 'home', 'home'), ('Back', 'Back to previous …"
      ]
     },
     "metadata": {},
     "output_type": "display_data"
    },
    {
     "name": "stdout",
     "output_type": "stream",
     "text": [
      "(1, 25)\n",
      "(1, 25)\n",
      "(1, 25)\n"
     ]
    },
    {
     "name": "stderr",
     "output_type": "stream",
     "text": [
      "/opt/conda/lib/python3.8/site-packages/numpy/core/_asarray.py:85: ComplexWarning: Casting complex values to real discards the imaginary part\n",
      "  return array(a, dtype, copy=False, order=order)\n"
     ]
    }
   ],
   "source": [
    "%matplotlib widget\n",
    "t = tau_list\n",
    "for mean,std in results:  \n",
    "    print(mean.shape)\n",
    "    plt.errorbar(t, mean[0,:], std[0,:])\n",
    "\n",
    "\n",
    "s = sigma[0]*11\n",
    "N = 1\n",
    "T2 = np.cbrt(12*corr_time[0]/s**2)\n",
    "y = 1/2 + 1/2 * np.exp(-(t/T2)**3)\n",
    "\n",
    "plt.plot(t,y)\n",
    "\n",
    "plt.xscale('log')\n",
    "plt.ylim(0.45,1)\n",
    "\n",
    "plt.show()"
   ]
  },
  {
   "cell_type": "code",
   "execution_count": null,
   "metadata": {},
   "outputs": [],
   "source": []
  }
 ],
 "metadata": {
  "kernelspec": {
   "display_name": "Python 3",
   "language": "python",
   "name": "python3"
  },
  "language_info": {
   "codemirror_mode": {
    "name": "ipython",
    "version": 3
   },
   "file_extension": ".py",
   "mimetype": "text/x-python",
   "name": "python",
   "nbconvert_exporter": "python",
   "pygments_lexer": "ipython3",
   "version": "3.8.2"
  }
 },
 "nbformat": 4,
 "nbformat_minor": 4
}
