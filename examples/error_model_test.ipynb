{
 "cells": [
  {
   "cell_type": "code",
   "execution_count": 1,
   "metadata": {},
   "outputs": [
    {
     "name": "stdout",
     "output_type": "stream",
     "text": [
      "Populating the interactive namespace from numpy and matplotlib\n"
     ]
    }
   ],
   "source": [
    "%pylab inline"
   ]
  },
  {
   "cell_type": "code",
   "execution_count": 50,
   "metadata": {},
   "outputs": [],
   "source": [
    "import parmap\n",
    "from itertools import product\n",
    "import sys\n",
    "sys.path.append('../scripts/')\n",
    "sys.path.append('../examples/')\n",
    "\n",
    "from lindblad_solver import lindblad_solver\n",
    "from utils import sx, sy, sz, si, init_qubit, normal_autocorr_generator\n",
    "from dynamical_decoupling import dynamical_decoupling\n",
    "from matplotlib import pyplot as plt\n",
    "from scipy import optimize"
   ]
  },
  {
   "cell_type": "code",
   "execution_count": 52,
   "metadata": {},
   "outputs": [],
   "source": [
    "def H_noise(t, delta_w_iterator):\n",
    "    return -next(delta_w_iterator)*sz\n",
    "\n",
    "def H_aux(t):\n",
    "    return np.zeros((2,2),dtype=complex)\n",
    "def add_noise(H,noise_matrix,mu,sigma,corr_time, dt,  seed):\n",
    "    dw_it = normal_autocorr_generator(mu, sigma, corr_time / dt / 2, seed)\n",
    "    def H_new(t,*args):\n",
    "        return H(t,*args) + noise_matrix*next(dw_it)\n",
    "    return H_new\n"
   ]
  },
  {
   "cell_type": "code",
   "execution_count": 55,
   "metadata": {},
   "outputs": [
    {
     "data": {
      "text/plain": [
       "array([0, 1])"
      ]
     },
     "execution_count": 55,
     "metadata": {},
     "output_type": "execute_result"
    }
   ],
   "source": [
    "np.arange(0,2)"
   ]
  },
  {
   "cell_type": "code",
   "execution_count": 56,
   "metadata": {},
   "outputs": [],
   "source": [
    "def dd_parallel_noisy(H,tau_list, dt, N, mu, sigma, corr_time, repetitions):\n",
    "    seed_list = np.arange(repetitions)\n",
    "\n",
    "    values = list(product([H], [tau_list], dt, N, mu, sigma, corr_time, seed_list))\n",
    "    results = parmap.starmap(dd_wrapper, values, pm_chunksize=4,pm_processes =4, pm_pbar=True)\n",
    "    results = np.array(results)\n",
    "\n",
    "    # Adapt results to input\n",
    "    len_parameters = len(N) * len(dt) * len(mu) * len(sigma) * len(corr_time) \n",
    "    print(len_parameters)\n",
    "    results = results.reshape((len_parameters, repetitions, tau_list.shape[0]))\n",
    "\n",
    "    results_mean = results.mean(axis=-2)\n",
    "    results_std = results.std(axis=-2) / np.sqrt(repetitions - 1)\n",
    "\n",
    "    return results_mean,results_std\n",
    "\n",
    "\n",
    "\n",
    "def dd_wrapper(H, tau_list, dt, N, mu, sigma, corr_time, seed):\n",
    "    e = []\n",
    "\n",
    "    # Initial state\n",
    "    rho_0 = init_qubit([1, 0, 0])\n",
    "\n",
    "    for tau_final in tau_list:\n",
    "        _dt = dt\n",
    "        dw_it = normal_autocorr_generator(mu, sigma, corr_time / _dt / 2, seed)\n",
    "        # H = add_noise(H,sz,mu, sigma, corr_time, _dt,  seed)\n",
    "        tau = np.arange(tau_final, step=_dt)\n",
    "        rho = dynamical_decoupling(H, rho_0, N, tau_final, tau.shape[0], dw_it)\n",
    "        e.append(np.trace(rho@sx)/2+1/2)\n",
    "    return e\n",
    "\n",
    "\n",
    "\n",
    "def dd_noise(H, tau_list, dt, N, mu, sigma, corr_time, seed):\n",
    "    e = []\n",
    "    \n",
    "    #We add noise in Z componen\n",
    "    noise_matrix = sz\n",
    "    # Initial state\n",
    "    rho_0 = init_qubit([1, 0, 0])\n",
    "\n",
    "    for tau_final in tau_list:\n",
    "        H = add_noise(H,mu,sigma,corr_time,dt, noise_matrix,seed)\n",
    "        tau = np.arange(tau_final, step=dt)\n",
    "        e.append(dynamical_decoupling(H, rho_0, N, tau_final, tau.shape[0]))\n",
    "    return e"
   ]
  },
  {
   "cell_type": "code",
   "execution_count": 63,
   "metadata": {},
   "outputs": [
    {
     "name": "stdout",
     "output_type": "stream",
     "text": [
      "22.894284851066637\n",
      "[ 1.          1.17715414  1.38569186  1.63117291  1.92014194  2.26030303\n",
      "  2.66072506  3.13208351  3.68694506  4.34010264  5.10896977  6.01404491\n",
      "  7.07945784  8.33361309  9.80994713 11.54781985 13.59356391 16.00171999\n",
      " 18.83649089 22.17345319 26.10157216 30.72557365 36.16873614 42.57617739\n",
      " 50.11872336]\n"
     ]
    },
    {
     "name": "stderr",
     "output_type": "stream",
     "text": [
      "100%|██████████| 200/200 [00:23<00:00,  8.42it/s]"
     ]
    },
    {
     "name": "stdout",
     "output_type": "stream",
     "text": [
      "2\n"
     ]
    },
    {
     "name": "stderr",
     "output_type": "stream",
     "text": [
      "\n"
     ]
    }
   ],
   "source": [
    "dt = [0.1] #3 Seems the right value.Higher gets crazy and lower does not really improve anything\n",
    "N = [1]\n",
    "sigma = [1]\n",
    "mu = [0]\n",
    "corr_time = [500,1000,2000]\n",
    "print(np.cbrt(12*corr_time[0]/sigma[0]**2))\n",
    "repetitions = 100\n",
    "n_tau = 25\n",
    "tau_list = np.logspace(0,1.7,n_tau)\n",
    "print(tau_list)\n",
    "mean,std = dd_parallel_noisy(H_noise,tau_list, dt, N, mu, sigma, corr_time, repetitions)"
   ]
  },
  {
   "cell_type": "markdown",
   "metadata": {},
   "source": [
    "What we see in this simulation is that the increase of sigma goes as expected. It decreases the value of $T_2$ as long as $\\sigma\\tau_c >>1$."
   ]
  },
  {
   "cell_type": "code",
   "execution_count": 66,
   "metadata": {},
   "outputs": [
    {
     "name": "stderr",
     "output_type": "stream",
     "text": [
      "/opt/conda/lib/python3.8/site-packages/numpy/core/_asarray.py:85: ComplexWarning: Casting complex values to real discards the imaginary part\n",
      "  return array(a, dtype, copy=False, order=order)\n",
      "/opt/conda/lib/python3.8/site-packages/numpy/core/_asarray.py:85: ComplexWarning: Casting complex values to real discards the imaginary part\n",
      "  return array(a, dtype, copy=False, order=order)\n"
     ]
    },
    {
     "name": "stdout",
     "output_type": "stream",
     "text": [
      "[0.40928855] [[0.0041096]]\n",
      "[0.41427706] [[0.00342615]]\n"
     ]
    },
    {
     "data": {
      "image/png": "[encoded data removed]",
      "text/plain": [
       "<Figure size 432x288 with 1 Axes>"
      ]
     },
     "metadata": {
      "needs_background": "light"
     },
     "output_type": "display_data"
    }
   ],
   "source": [
    "%notebook inline\n",
    "plt.figure()\n",
    "t = 2*tau_list\n",
    "plt.errorbar(t,(mean[0, :]), (std[0, :]))\n",
    "plt.errorbar(t, mean[1, :], std[1, :])\n",
    "#plt.errorbar(t, mean[2, :], std[1, :])\n",
    "\n",
    "def f(t,T2):\n",
    "    return 1/2 + np.exp(-(t/T2)**3)/2\n",
    "\n",
    "T_2 =[]\n",
    "for i in range(2):\n",
    "    s = sigma[0]\n",
    "    c_time = corr_time[i]\n",
    "    T2 = np.cbrt(12*c_time/s**2)\n",
    "    \n",
    "    guess = optimize.curve_fit(f, t, mean[i,:])[0]\n",
    "    guess_std = optimize.curve_fit(f, t, mean[i,:])[1]\n",
    "\n",
    "    \n",
    "    y = 1/2 + 1/2 * np.exp(-(t/guess)**3)\n",
    "    plt.plot(t,y)\n",
    "\n",
    "    print(guess/T2 , guess_std/T2)\n",
    "\n",
    "\n",
    "\n",
    "\n",
    "plt.xscale('log')\n",
    "#plt.ylim(0.45,1)\n",
    "\n",
    "plt.show()"
   ]
  },
  {
   "cell_type": "code",
   "execution_count": 29,
   "metadata": {},
   "outputs": [
    {
     "name": "stdout",
     "output_type": "stream",
     "text": [
      "[[1.6736637380011534]\n",
      " [1.5733851499841125]]\n",
      "[[1.5936075394035862]\n",
      " [1.550976712452603]]\n"
     ]
    }
   ],
   "source": []
  },
  {
   "cell_type": "code",
   "execution_count": null,
   "metadata": {},
   "outputs": [],
   "source": [
    "dt = [3]\n",
    "N = [1,8,16]\n",
    "sigma = [0.05]\n",
    "mu = [0]\n",
    "corr_time = [100000]\n",
    "\n",
    "repetitions = 10\n",
    "n_tau = 2\n",
    "# Final t\n",
    "t_list = np.logspace(1,4.5,n_tau)\n",
    "print(t_list)\n",
    "results = []\n",
    "for n_rot in N:\n",
    "    tau_list = t_list/2/n_rot\n",
    "    new_result = dd_parallel_noisy(H_noise,tau_list, dt, [n_rot], mu, sigma, corr_time, repetitions)\n",
    "    results.append(new_result)\n",
    "    np.savez(np.savez(f'../script_output/nv_deco_{n_rot}'))"
   ]
  },
  {
   "cell_type": "code",
   "execution_count": 70,
   "metadata": {},
   "outputs": [
    {
     "name": "stdout",
     "output_type": "stream",
     "text": [
      "(1, 50)\n"
     ]
    },
    {
     "data": {
      "application/vnd.jupyter.widget-view+json": {
       "model_id": "cf16049121344dcaafb9b7803ad12598",
       "version_major": 2,
       "version_minor": 0
      },
      "text/plain": [
       "Canvas(toolbar=Toolbar(toolitems=[('Home', 'Reset original view', 'home', 'home'), ('Back', 'Back to previous …"
      ]
     },
     "metadata": {},
     "output_type": "display_data"
    },
    {
     "name": "stdout",
     "output_type": "stream",
     "text": [
      "(1, 50)\n",
      "(1, 50)\n"
     ]
    },
    {
     "name": "stderr",
     "output_type": "stream",
     "text": [
      "/opt/conda/lib/python3.8/site-packages/numpy/core/_asarray.py:85: ComplexWarning: Casting complex values to real discards the imaginary part\n",
      "  return array(a, dtype, copy=False, order=order)\n"
     ]
    },
    {
     "ename": "TypeError",
     "evalue": "'float' object is not subscriptable",
     "output_type": "error",
     "traceback": [
      "\u001b[0;31m---------------------------------------------------------------------------\u001b[0m",
      "\u001b[0;31mTypeError\u001b[0m                                 Traceback (most recent call last)",
      "\u001b[0;32m<ipython-input-70-ba81af9a7236>\u001b[0m in \u001b[0;36m<module>\u001b[0;34m\u001b[0m\n\u001b[1;32m      7\u001b[0m \u001b[0mN\u001b[0m \u001b[0;34m=\u001b[0m \u001b[0;36m4\u001b[0m\u001b[0;34m\u001b[0m\u001b[0;34m\u001b[0m\u001b[0m\n\u001b[1;32m      8\u001b[0m \u001b[0mc_time\u001b[0m \u001b[0;34m=\u001b[0m \u001b[0mcorr_time\u001b[0m\u001b[0;34m[\u001b[0m\u001b[0;36m0\u001b[0m\u001b[0;34m]\u001b[0m\u001b[0;34m/\u001b[0m\u001b[0;36m16\u001b[0m\u001b[0;34m\u001b[0m\u001b[0;34m\u001b[0m\u001b[0m\n\u001b[0;32m----> 9\u001b[0;31m \u001b[0mT2\u001b[0m \u001b[0;34m=\u001b[0m \u001b[0mnp\u001b[0m\u001b[0;34m.\u001b[0m\u001b[0mcbrt\u001b[0m\u001b[0;34m(\u001b[0m\u001b[0;36m12\u001b[0m\u001b[0;34m*\u001b[0m\u001b[0mN\u001b[0m\u001b[0;34m**\u001b[0m\u001b[0;36m2\u001b[0m\u001b[0;34m*\u001b[0m\u001b[0mc_time\u001b[0m\u001b[0;34m/\u001b[0m\u001b[0msigma\u001b[0m\u001b[0;34m[\u001b[0m\u001b[0;36m0\u001b[0m\u001b[0;34m]\u001b[0m\u001b[0;34m**\u001b[0m\u001b[0;36m2\u001b[0m\u001b[0;34m)\u001b[0m\u001b[0;34m\u001b[0m\u001b[0;34m\u001b[0m\u001b[0m\n\u001b[0m\u001b[1;32m     10\u001b[0m \u001b[0my\u001b[0m \u001b[0;34m=\u001b[0m \u001b[0;36m1\u001b[0m\u001b[0;34m/\u001b[0m\u001b[0;36m2\u001b[0m \u001b[0;34m+\u001b[0m \u001b[0;36m1\u001b[0m\u001b[0;34m/\u001b[0m\u001b[0;36m2\u001b[0m \u001b[0;34m*\u001b[0m \u001b[0mnp\u001b[0m\u001b[0;34m.\u001b[0m\u001b[0mexp\u001b[0m\u001b[0;34m(\u001b[0m\u001b[0;34m-\u001b[0m\u001b[0;34m(\u001b[0m\u001b[0mt\u001b[0m\u001b[0;34m/\u001b[0m\u001b[0mT2\u001b[0m\u001b[0;34m)\u001b[0m\u001b[0;34m**\u001b[0m\u001b[0;36m3\u001b[0m\u001b[0;34m)\u001b[0m\u001b[0;34m\u001b[0m\u001b[0;34m\u001b[0m\u001b[0m\n\u001b[1;32m     11\u001b[0m \u001b[0;34m\u001b[0m\u001b[0m\n",
      "\u001b[0;31mTypeError\u001b[0m: 'float' object is not subscriptable"
     ]
    }
   ],
   "source": [
    "%matplotlib widget\n",
    "t = t_list\n",
    "for mean,std in results:  \n",
    "    print(mean.shape)\n",
    "    plt.errorbar(t, mean[0,:], std[0,:])\n",
    "\n",
    "N = 4\n",
    "c_time = corr_time[0]/16\n",
    "T2 = np.cbrt(12*N**2*c_time/sigma[0]**2)\n",
    "y = 1/2 + 1/2 * np.exp(-(t/T2)**3)\n",
    "\n",
    "plt.plot(N*t,y)\n",
    "\n",
    "plt.xscale('log')\n",
    "plt.ylim(0.45,1)\n",
    "\n",
    "plt.show()"
   ]
  },
  {
   "cell_type": "markdown",
   "metadata": {},
   "source": [
    "Realistic case"
   ]
  },
  {
   "cell_type": "code",
   "execution_count": 21,
   "metadata": {},
   "outputs": [
    {
     "name": "stdout",
     "output_type": "stream",
     "text": [
      "[0.1    0.2625 0.425  0.5875 0.75   0.9125 1.075  1.2375 1.4    1.5625\n",
      " 1.725  1.8875 2.05   2.2125 2.375  2.5375 2.7    2.8625 3.025  3.1875\n",
      " 3.35   3.5125 3.675  3.8375 4.    ]\n"
     ]
    },
    {
     "name": "stderr",
     "output_type": "stream",
     "text": [
      "1002it [00:54, 18.47it/s]                         "
     ]
    },
    {
     "name": "stdout",
     "output_type": "stream",
     "text": [
      "1\n"
     ]
    },
    {
     "name": "stderr",
     "output_type": "stream",
     "text": [
      "\n",
      "1002it [00:51, 19.45it/s]                         "
     ]
    },
    {
     "name": "stdout",
     "output_type": "stream",
     "text": [
      "1\n"
     ]
    },
    {
     "name": "stderr",
     "output_type": "stream",
     "text": [
      "\n",
      "1002it [00:55, 18.21it/s]                         "
     ]
    },
    {
     "name": "stdout",
     "output_type": "stream",
     "text": [
      "1\n"
     ]
    },
    {
     "name": "stderr",
     "output_type": "stream",
     "text": [
      "\n",
      "1002it [00:51, 19.53it/s]                         "
     ]
    },
    {
     "name": "stdout",
     "output_type": "stream",
     "text": [
      "1\n"
     ]
    },
    {
     "name": "stderr",
     "output_type": "stream",
     "text": [
      "\n"
     ]
    }
   ],
   "source": [
    "dt = [0.01]\n",
    "N = [1,2,3,4]\n",
    "sigma = [3.3]\n",
    "mu = [0]\n",
    "corr_time = [25]\n",
    "\n",
    "repetitions = 1000\n",
    "n_tau = 25\n",
    "\n",
    "# Final t\n",
    "t_list = np.linspace(0.1,4,n_tau)\n",
    "results = []\n",
    "for n_rot in N:\n",
    "    tau_list = t_list/2/n_rot\n",
    "    results.append(dd_parallel_noisy(H_noise,tau_list, dt, [n_rot], mu, sigma, corr_time, repetitions))"
   ]
  },
  {
   "cell_type": "code",
   "execution_count": 22,
   "metadata": {},
   "outputs": [
    {
     "name": "stdout",
     "output_type": "stream",
     "text": [
      "(1, 25)\n"
     ]
    },
    {
     "data": {
      "application/vnd.jupyter.widget-view+json": {
       "model_id": "6bb456ec6d384488b2f77de8f1bbaf10",
       "version_major": 2,
       "version_minor": 0
      },
      "text/plain": [
       "Canvas(toolbar=Toolbar(toolitems=[('Home', 'Reset original view', 'home', 'home'), ('Back', 'Back to previous …"
      ]
     },
     "metadata": {},
     "output_type": "display_data"
    },
    {
     "name": "stdout",
     "output_type": "stream",
     "text": [
      "(1, 25)\n",
      "(1, 25)\n",
      "(1, 25)\n"
     ]
    },
    {
     "name": "stderr",
     "output_type": "stream",
     "text": [
      "/opt/conda/lib/python3.8/site-packages/numpy/core/_asarray.py:85: ComplexWarning: Casting complex values to real discards the imaginary part\n",
      "  return array(a, dtype, copy=False, order=order)\n"
     ]
    }
   ],
   "source": [
    "%matplotlib widget\n",
    "t = tau_list\n",
    "for mean,std in results:  \n",
    "    print(mean.shape)\n",
    "    plt.errorbar(t, mean[0,:], std[0,:])\n",
    "\n",
    "\n",
    "s = sigma[0]*11\n",
    "N = 1\n",
    "T2 = np.cbrt(12*corr_time[0]/s**2)\n",
    "y = 1/2 + 1/2 * np.exp(-(t/T2)**3)\n",
    "\n",
    "plt.plot(t,y)\n",
    "\n",
    "plt.xscale('log')\n",
    "plt.ylim(0.45,1)\n",
    "\n",
    "plt.show()"
   ]
  },
  {
   "cell_type": "code",
   "execution_count": null,
   "metadata": {},
   "outputs": [],
   "source": []
  }
 ],
 "metadata": {
  "kernelspec": {
   "display_name": "Python 3",
   "language": "python",
   "name": "python3"
  },
  "language_info": {
   "codemirror_mode": {
    "name": "ipython",
    "version": 3
   },
   "file_extension": ".py",
   "mimetype": "text/x-python",
   "name": "python",
   "nbconvert_exporter": "python",
   "pygments_lexer": "ipython3",
   "version": "3.8.2"
  }
 },
 "nbformat": 4,
 "nbformat_minor": 4
}
