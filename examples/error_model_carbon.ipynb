{
 "cells": [
  {
   "cell_type": "code",
   "execution_count": 1,
   "metadata": {},
   "outputs": [
    {
     "name": "stdout",
     "output_type": "stream",
     "text": [
      "Populating the interactive namespace from numpy and matplotlib\n"
     ]
    }
   ],
   "source": [
    "%pylab inline"
   ]
  },
  {
   "cell_type": "code",
   "execution_count": 1,
   "metadata": {},
   "outputs": [],
   "source": [
    "import parmap\n",
    "from itertools import product\n",
    "import sys\n",
    "sys.path.append('../scripts/')\n",
    "sys.path.append('../examples/')\n",
    "\n",
    "from lindblad_solver import lindblad_solver\n",
    "from utils import sx, sy, sz, si, init_qubit, normal_autocorr_generator\n",
    "from dynamical_decoupling import dynamical_decoupling\n",
    "from matplotlib import pyplot as plt"
   ]
  },
  {
   "cell_type": "code",
   "execution_count": 3,
   "metadata": {
    "jupyter": {
     "source_hidden": true
    }
   },
   "outputs": [],
   "source": [
    "def single_carbon_H(t, dw_it):\n",
    "    \"\"\"\n",
    "    Definition of the Hamiltonian for a single Carbon near a\n",
    "    Nitrogen-Vacancy centre in diamond.\n",
    "\n",
    "    Input:\n",
    "    wL - the Larmor frequency of precession, controlled by the\n",
    "    externally applied B field\n",
    "\n",
    "    wh - the hyperfine coupling term describing the strength of\n",
    "    spin-spin interaction between the Carbon and the NV\n",
    "\n",
    "    theta - the angle between the applied B field and the vector\n",
    "    pointing from the NV to the Carbon atom\n",
    "\n",
    "    Output:\n",
    "    The 4x4 Hamiltonian of the joint spin system.\n",
    "    \"\"\"\n",
    "    wh = \n",
    "    wL = \n",
    "    theta = \n",
    "    A = wh * np.cos(theta)\n",
    "    B = wh * np.sin(theta)\n",
    "    noise_matrix = np.kron(sz,si) + np.kron(sz,si)\n",
    "\n",
    "    return (A + wL) * np.kron((si - sz) / 2, sz / 2) + B * np.kron(\n",
    "        (si - sz) / 2, sx / 2) + wL * np.kron((si + sz) / 2, sz / 2) + next(dw_it)*noise_matrix"
   ]
  },
  {
   "cell_type": "code",
   "execution_count": 4,
   "metadata": {
    "jupyter": {
     "source_hidden": true
    }
   },
   "outputs": [],
   "source": [
    "def dd_parallel_noisy(H,tau_list, dt, N, mu, sigma, corr_time, repetitions):\n",
    "    seed_list = np.arange(repetitions)\n",
    "\n",
    "    values = list(product([H], [tau_list], dt, N, mu, sigma, corr_time, seed_list))\n",
    "\n",
    "    results = parmap.starmap(dd_wrapper, values, pm_chunksize=3, pm_pbar=True)\n",
    "    results = np.array(results)\n",
    "\n",
    "    # Adapt results to input\n",
    "    len_parameters = len(N) * len(dt) * len(mu) * len(sigma) * len(corr_time) \n",
    "    print(len_parameters)\n",
    "    results = results.reshape((len_parameters, repetitions, tau_list.shape[0]))\n",
    "\n",
    "    results_mean = results.mean(axis=-2)\n",
    "    results_std = results.std(axis=-2) / np.sqrt(repetitions - 1)\n",
    "\n",
    "    return results_mean,results_std\n",
    "\n",
    "\n",
    "\n",
    "def dd_wrapper(H, tau_list, dt, N, mu, sigma, corr_time, seed):\n",
    "    e = []\n",
    "\n",
    "    # Initial state\n",
    "    rho_0 = init_qubit([1, 0, 0])\n",
    "\n",
    "    for tau_final in tau_list:\n",
    "        _dt = min(dt,tau_final/5)\n",
    "        dw_it = normal_autocorr_generator(mu, sigma, corr_time / dt / 2, seed)\n",
    "        # H = add_noise(H,sz,mu, sigma, corr_time, _dt,  seed)\n",
    "        tau = np.arange(tau_final, step=_dt)\n",
    "        e.append(\n",
    "            dynamical_decoupling(H, rho_0, N, tau_final, tau.shape[0], dw_it))\n",
    "    return e\n",
    "\n",
    "\n",
    "\n",
    "def dd_noise(H, tau_list, dt, N, mu, sigma, corr_time, seed):\n",
    "    e = []\n",
    "    \n",
    "    #We add noise in Z componen\n",
    "    noise_matrix = sz\n",
    "    # Initial state\n",
    "    rho_0 = init_qubit([1, 0, 0])\n",
    "\n",
    "    for tau_final in tau_list:\n",
    "        H = add_noise(H,mu,sigma,corr_time,dt, noise_matrix,seed)\n",
    "        tau = np.arange(tau_final, step=dt)\n",
    "        e.append(dynamical_decoupling(H, rho_0, N, tau_final, tau.shape[0]))\n",
    "    return e"
   ]
  },
  {
   "cell_type": "code",
   "execution_count": 5,
   "metadata": {
    "collapsed": true,
    "jupyter": {
     "outputs_hidden": true,
     "source_hidden": true
    }
   },
   "outputs": [
    {
     "name": "stderr",
     "output_type": "stream",
     "text": [
      "100%|██████████| 600/600 [00:05<00:00, 113.57it/s]"
     ]
    },
    {
     "name": "stdout",
     "output_type": "stream",
     "text": [
      "3\n"
     ]
    },
    {
     "name": "stderr",
     "output_type": "stream",
     "text": [
      "\n"
     ]
    }
   ],
   "source": [
    "dt = [0.1]\n",
    "N = [1]\n",
    "sigma = [0.5, 1, 2]\n",
    "mu = [0]\n",
    "corr_time = [1000]\n",
    "\n",
    "repetitions = 200\n",
    "n_tau = 10\n",
    "tau_list = np.linspace(1,20,n_tau)\n",
    "\n",
    "mean,std = dd_parallel_noisy(H_noise,tau_list, dt, N, mu, sigma, corr_time, repetitions)"
   ]
  },
  {
   "cell_type": "markdown",
   "metadata": {},
   "source": [
    "What we see in this simulation is that the increase of sigma goes as expected. It decreases the value of $T_2$ as long as $\\sigma\\tau_c >>1$."
   ]
  },
  {
   "cell_type": "code",
   "execution_count": 6,
   "metadata": {},
   "outputs": [
    {
     "name": "stdout",
     "output_type": "stream",
     "text": [
      "[0.99875306+0.j 0.96114258+0.j 0.83955355+0.j 0.6511817 +0.j\n",
      " 0.54962718+0.j 0.50726811+0.j 0.49624139+0.j 0.52465407+0.j\n",
      " 0.52490483+0.j 0.48193102+0.j]\n",
      "9.085602964160698\n"
     ]
    },
    {
     "data": {
      "image/png": "[encoded data removed]",
      "text/plain": [
       "<Figure size 432x288 with 1 Axes>"
      ]
     },
     "metadata": {
      "needs_background": "light"
     },
     "output_type": "display_data"
    }
   ],
   "source": [
    "%matplotlib widget\n",
    "plt.figure()\n",
    "print(mean[0,:])\n",
    "t = 2*tau_list\n",
    "plt.errorbar(t, np.abs(mean[0, :]), np.abs(std[0, :]))\n",
    "#plt.errorbar(t, mean[1, :], std[1, :])\n",
    "#plt.errorbar(t, mean[2, :], std[1, :])\n",
    "\n",
    "sigma = 4\n",
    "T2 = np.cbrt(12*corr_time[0]/sigma**2)\n",
    "print(T2)\n",
    "\n",
    "y = 1/2 + 1/2 * np.exp(-(t/T2)**3)\n",
    "\n",
    "plt.plot(t,y)\n",
    "\n",
    "plt.xscale('log')\n",
    "plt.ylim(0.45,1)\n",
    "\n",
    "plt.show()"
   ]
  },
  {
   "cell_type": "code",
   "execution_count": 5,
   "metadata": {},
   "outputs": [
    {
     "name": "stdout",
     "output_type": "stream",
     "text": [
      "[  3.16227766   3.7946058    4.5533741    5.4638655    6.55641849\n",
      "   7.86743808   9.44060876  11.32835021  13.59356391  16.31172909\n",
      "  19.57341781  23.48731289  28.18382931  33.81945983  40.58198942\n",
      "  48.69675252  58.43414134  70.11861566  84.13951416 100.96402755\n",
      " 121.15276586 145.37843856 174.4482699  209.33089647 251.18864315]\n"
     ]
    },
    {
     "name": "stderr",
     "output_type": "stream",
     "text": [
      "201it [00:04, 40.76it/s]                        "
     ]
    },
    {
     "name": "stdout",
     "output_type": "stream",
     "text": [
      "2\n"
     ]
    },
    {
     "name": "stderr",
     "output_type": "stream",
     "text": [
      "\n",
      "201it [00:05, 38.52it/s]                        "
     ]
    },
    {
     "name": "stdout",
     "output_type": "stream",
     "text": [
      "2\n"
     ]
    },
    {
     "name": "stderr",
     "output_type": "stream",
     "text": [
      "\n",
      "201it [00:05, 33.54it/s]                        "
     ]
    },
    {
     "name": "stdout",
     "output_type": "stream",
     "text": [
      "2\n"
     ]
    },
    {
     "name": "stderr",
     "output_type": "stream",
     "text": [
      "\n"
     ]
    }
   ],
   "source": [
    "dt = [0.2,0.4]\n",
    "N = [1,8,16]\n",
    "sigma = [0.5]\n",
    "mu = [0]\n",
    "corr_time = [1000]\n",
    "\n",
    "repetitions = 100\n",
    "n_tau = 25\n",
    "# Final t\n",
    "t_list = np.logspace(0.5,2.4,n_tau)\n",
    "print(t_list)\n",
    "results = []\n",
    "for n_rot in N:\n",
    "    tau_list = t_list/2/n_rot\n",
    "    results.append(dd_parallel_noisy(H_noise,tau_list, dt, [n_rot], mu, sigma, corr_time, repetitions))"
   ]
  },
  {
   "cell_type": "code",
   "execution_count": 9,
   "metadata": {},
   "outputs": [
    {
     "name": "stdout",
     "output_type": "stream",
     "text": [
      "(2, 25)\n"
     ]
    },
    {
     "data": {
      "application/vnd.jupyter.widget-view+json": {
       "model_id": "e1d04dd6e6e0453785a5493ae98b0879",
       "version_major": 2,
       "version_minor": 0
      },
      "text/plain": [
       "Canvas(toolbar=Toolbar(toolitems=[('Home', 'Reset original view', 'home', 'home'), ('Back', 'Back to previous …"
      ]
     },
     "metadata": {},
     "output_type": "display_data"
    },
    {
     "name": "stdout",
     "output_type": "stream",
     "text": [
      "(2, 25)\n",
      "(2, 25)\n"
     ]
    },
    {
     "name": "stderr",
     "output_type": "stream",
     "text": [
      "/opt/conda/lib/python3.8/site-packages/numpy/core/_asarray.py:85: ComplexWarning: Casting complex values to real discards the imaginary part\n",
      "  return array(a, dtype, copy=False, order=order)\n"
     ]
    }
   ],
   "source": [
    "%matplotlib widget\n",
    "t = t_list\n",
    "for mean,std in results:  \n",
    "    print(mean.shape)\n",
    "    plt.errorbar(t, mean[0,:], std[0,:])\n",
    "\n",
    "#sigma = 0.5\n",
    "#N = 1\n",
    "#T2 = np.cbrt(12*N**2*corr_time[0]/sigma**2)\n",
    "#y = 1/2 + 1/2 * np.exp(-(N*t/T2)**3)\n",
    "\n",
    "#plt.plot(N*t,y)\n",
    "\n",
    "plt.xscale('log')\n",
    "plt.ylim(0.45,1)\n",
    "\n",
    "plt.show()"
   ]
  },
  {
   "cell_type": "code",
   "execution_count": null,
   "metadata": {},
   "outputs": [],
   "source": []
  }
 ],
 "metadata": {
  "kernelspec": {
   "display_name": "Python 3",
   "language": "python",
   "name": "python3"
  },
  "language_info": {
   "codemirror_mode": {
    "name": "ipython",
    "version": 3
   },
   "file_extension": ".py",
   "mimetype": "text/x-python",
   "name": "python",
   "nbconvert_exporter": "python",
   "pygments_lexer": "ipython3",
   "version": "3.8.2"
  }
 },
 "nbformat": 4,
 "nbformat_minor": 4
}
