{
 "cells": [
  {
   "cell_type": "code",
   "execution_count": 1,
   "metadata": {},
   "outputs": [
    {
     "name": "stdout",
     "output_type": "stream",
     "text": [
      "Populating the interactive namespace from numpy and matplotlib\n"
     ]
    }
   ],
   "source": [
    "%pylab inline"
   ]
  },
  {
   "cell_type": "code",
   "execution_count": 2,
   "metadata": {},
   "outputs": [],
   "source": [
    "import parmap\n",
    "from itertools import product\n",
    "import sys\n",
    "sys.path.append('../scripts/')\n",
    "sys.path.append('../examples/')\n",
    "\n",
    "from lindblad_solver import lindblad_solver\n",
    "from hamiltonians import single_carbon_H\n",
    "from utils import sx, sy, sz, si, init_qubit, normal_autocorr_generator, pi_rotation\n",
    "from dynamical_decoupling import dynamical_decoupling\n",
    "from matplotlib import pyplot as plt"
   ]
  },
  {
   "cell_type": "code",
   "execution_count": 9,
   "metadata": {},
   "outputs": [],
   "source": [
    "def generate_parameters():\n",
    "    wL = 1.0\n",
    "    wh = 0.1\n",
    "    theta = np.pi/4\n",
    "\n",
    "    N, tau0 = pi_rotation(wL, wh, theta)\n",
    "    dt = tau0/N0\n",
    "    return dt\n",
    "    \n",
    "def protect_carbon(H, N0, nf_add, *args):\n",
    "\n",
    "    wL = 1.0\n",
    "    wh = 0.1\n",
    "    theta = np.pi/4\n",
    "    N, tau0 = pi_rotation(wL, wh, theta)\n",
    "\n",
    "    Nf = nf_add + 2*N*N0\n",
    "    dt = tau0/N0\n",
    "\n",
    "    rho_0 = np.kron(init_qubit([0,0,1]), init_qubit([1,0,0]))\n",
    "\n",
    "    tf = (Nf-2*N*N0)*dt\n",
    "\n",
    "    tlist = np.arange(0,tf,dt)\n",
    "    rho, _ = lindblad_solver(H, rho_0, tlist, *args)\n",
    "\n",
    "    rho = dynamical_decoupling(H, rho, N, tau0, N0, *args, e_ops=[])\n",
    "\n",
    "    rho, _ = lindblad_solver(H, rho, tlist, *args)\n",
    "\n",
    "    return 2*Nf*dt, (np.trace(rho @ np.kron(si,sx)))"
   ]
  },
  {
   "cell_type": "code",
   "execution_count": 7,
   "metadata": {
    "scrolled": true
   },
   "outputs": [
    {
     "name": "stdout",
     "output_type": "stream",
     "text": [
      "CPU times: user 9 µs, sys: 0 ns, total: 9 µs\n",
      "Wall time: 14.1 µs\n"
     ]
    }
   ],
   "source": [
    "%%time\n",
    "N0 = 25\n",
    "wL = 1.0\n",
    "wh = 0.2\n",
    "theta = np.pi/4\n",
    "\n",
    "# t = []\n",
    "# proj_x = []\n",
    "# for i in range(5,100,10):\n",
    "#     time, Px = protect_carbon(single_carbon_H, N0, i, wL, wh, theta)\n",
    "#     t.append(time)\n",
    "#     proj_x.append(Px)\n",
    "\n",
    "# plt.plot(t, proj_x)\n",
    "# plt.show()"
   ]
  },
  {
   "cell_type": "code",
   "execution_count": null,
   "metadata": {},
   "outputs": [],
   "source": [
    "nf_add = np.arange(5,100,10)\n",
    "parameters = list(\n",
    "    product([single_carbon_H], [N0], nf_add, [wL], [wh], [theta]))\n",
    "results = parmap.starmap(protect_carbon,\n",
    "                          parameters,\n",
    "                          pm_pbar=True,\n",
    "                          pm_chunksize=3)\n",
    "\n",
    "results = np.array(results)\n",
    "plt.plot(results[:,0], results[:,1])\n",
    "plt.show()"
   ]
  },
  {
   "cell_type": "code",
   "execution_count": 4,
   "metadata": {},
   "outputs": [],
   "source": [
    "def single_carbon_H_noise(t, dw_iterator):\n",
    "    \"\"\"\n",
    "    Definition of the Hamiltonian for a single Carbon near a\n",
    "    Nitrogen-Vacancy centre in diamond.\n",
    "\n",
    "    Input:\n",
    "    wL - the Larmor frequency of precession, controlled by the\n",
    "    externally applied B field\n",
    "\n",
    "    wh - the hyperfine coupling term describing the strength of\n",
    "    spin-spin interaction between the Carbon and the NV\n",
    "\n",
    "    theta - the angle between the applied B field and the vector\n",
    "    pointing from the NV to the Carbon atom\n",
    "\n",
    "    Output:\n",
    "    The 4x4 Hamiltonian of the joint spin system.\n",
    "    \"\"\"\n",
    "    wL = 1.0\n",
    "    wh = 0.1\n",
    "    theta = np.pi/4\n",
    "    A = wh * np.cos(theta)\n",
    "    B = wh * np.sin(theta)\n",
    "    return (A + wL) * np.kron((si - sz) / 2, sz / 2) + B * np.kron(\n",
    "        (si - sz) / 2, sx / 2) + wL * np.kron((si + sz) / 2, sz / 2) + next(dw_iterator)*np.kron(si, sz)\n"
   ]
  },
  {
   "cell_type": "code",
   "execution_count": 17,
   "metadata": {},
   "outputs": [],
   "source": [
    "def protect_carbon_wrapper(H, nf_add, N0, mu, sigma, corr_time, seed):\n",
    "    e = []\n",
    "\n",
    "    # Initial state\n",
    "#     rho_0 = np.kron(init_qubit([0, 0, 1]), init_qubit([1,0,0]))\n",
    "\n",
    "    dt = generate_parameters()\n",
    "    t = []\n",
    "    e = []\n",
    "    \n",
    "    for nf in nf_add:\n",
    "        dw_it = normal_autocorr_generator(mu, sigma, corr_time / dt / 2, seed)\n",
    "        time , exp = protect_carbon(H, N0, nf, dw_it)\n",
    "        t.append(time)\n",
    "        e.append(exp)\n",
    "        \n",
    "    return t, e"
   ]
  },
  {
   "cell_type": "code",
   "execution_count": 18,
   "metadata": {
    "collapsed": true
   },
   "outputs": [
    {
     "name": "stdout",
     "output_type": "stream",
     "text": [
      "0.06068626943951608\n",
      "0.30343134719758036\n",
      "0.06068626943951608\n",
      "0.9102940415927412\n",
      "0.06068626943951608\n",
      "1.517156735987902\n",
      "0.06068626943951608\n",
      "2.1240194303830626\n",
      "0.06068626943951608\n",
      "2.7308821247782236\n",
      "0.06068626943951608\n",
      "3.337744819173384\n",
      "0.06068626943951608\n",
      "3.944607513568545\n",
      "0.06068626943951608\n",
      "4.551470207963706\n",
      "0.06068626943951608\n",
      "5.158332902358866\n",
      "0.06068626943951608\n",
      "5.765195596754027\n"
     ]
    },
    {
     "data": {
      "text/plain": [
       "([291.9009560040723,\n",
       "  293.1146813928627,\n",
       "  294.328406781653,\n",
       "  295.5421321704433,\n",
       "  296.7558575592336,\n",
       "  297.9695829480239,\n",
       "  299.18330833681426,\n",
       "  300.39703372560456,\n",
       "  301.6107591143949,\n",
       "  302.8244845031852],\n",
       " [(0.7573654456230147+0j),\n",
       "  (0.6005122344802285+0j),\n",
       "  (0.505724475087202+0j),\n",
       "  (0.45669260321987726+0j),\n",
       "  (0.9687420782488524+0j),\n",
       "  (0.5386936866965174+0j),\n",
       "  (-0.8937383113130888+0j),\n",
       "  (0.8482768137868844+0j),\n",
       "  (-0.9537886172018719+0j),\n",
       "  (0.377214869489113+0j)])"
      ]
     },
     "execution_count": 18,
     "metadata": {},
     "output_type": "execute_result"
    }
   ],
   "source": [
    "nf_add = np.arange(5,100,10)\n",
    "protect_carbon_wrapper(single_carbon_H_noise, nf_add, 25, 0, 1, 100, 1)"
   ]
  },
  {
   "cell_type": "code",
   "execution_count": 28,
   "metadata": {},
   "outputs": [],
   "source": [
    "def protect_carbon_parallel_noisy(H, nf_add, N0, mu, sigma, corr_time, repetitions):\n",
    "    seed_list = np.arange(repetitions)\n",
    "\n",
    "    values = list(product([H], [nf_add], [N0], [mu], [sigma], [corr_time], seed_list))\n",
    "\n",
    "    results = parmap.starmap(protect_carbon_wrapper, values, pm_chunksize=3, pm_pbar=True)\n",
    "    results = np.array(results)\n",
    "    time = results[0,0,:]\n",
    "    exp_mean = results[:,1,:].mean(axis=0)\n",
    "    exp_std = results[:,1,:].std(axis=0) / np.sqrt(repetitions - 1)\n",
    "    print(results.shape)\n",
    "\n",
    "#     # Adapt results to input\n",
    "#     len_parameters = len(N) * len(dt) * len(mu) * len(sigma) * len(corr_time)\n",
    "#     print(len_parameters)\n",
    "#     results = results.reshape((len_parameters, repetitions, tau_list.shape[0]))\n",
    "\n",
    "#     results_mean = results.mean(axis=-2)\n",
    "#     results_std = results.std(axis=-2) / np.sqrt(repetitions - 1)\n",
    "\n",
    "    return time, exp_mean, exp_std"
   ]
  },
  {
   "cell_type": "code",
   "execution_count": 27,
   "metadata": {},
   "outputs": [
    {
     "name": "stderr",
     "output_type": "stream",
     "text": [
      "\r",
      "  0%|          | 0/2 [00:00<?, ?it/s]"
     ]
    },
    {
     "name": "stdout",
     "output_type": "stream",
     "text": [
      "0.06068626943951608\n",
      "0.30343134719758036\n",
      "0.06068626943951608\n",
      "0.9102940415927412\n",
      "0.06068626943951608\n",
      "1.517156735987902\n",
      "0.06068626943951608\n",
      "2.1240194303830626\n",
      "0.06068626943951608\n",
      "2.7308821247782236\n",
      "0.06068626943951608\n",
      "3.337744819173384\n",
      "0.06068626943951608\n",
      "3.944607513568545\n",
      "0.06068626943951608\n",
      "4.551470207963706\n",
      "0.06068626943951608\n",
      "5.158332902358866\n",
      "0.06068626943951608\n",
      "5.765195596754027\n",
      "0.06068626943951608\n",
      "0.30343134719758036\n",
      "0.06068626943951608\n",
      "0.9102940415927412\n",
      "0.06068626943951608\n",
      "1.517156735987902\n",
      "0.06068626943951608\n",
      "2.1240194303830626\n",
      "0.06068626943951608\n",
      "2.7308821247782236\n",
      "0.06068626943951608\n",
      "3.337744819173384\n",
      "0.06068626943951608\n",
      "3.944607513568545\n",
      "0.06068626943951608\n",
      "4.551470207963706\n",
      "0.06068626943951608\n",
      "5.158332902358866\n",
      "0.06068626943951608\n",
      "5.765195596754027\n"
     ]
    },
    {
     "name": "stderr",
     "output_type": "stream",
     "text": [
      "3it [00:23,  7.67s/it]               "
     ]
    },
    {
     "name": "stdout",
     "output_type": "stream",
     "text": [
      "(2, 2, 10)\n"
     ]
    },
    {
     "name": "stderr",
     "output_type": "stream",
     "text": [
      "\n"
     ]
    },
    {
     "data": {
      "text/plain": [
       "(array([-0.06652639+0.j,  0.73540449+0.j,  0.45294688+0.j,  0.25900537+0.j,\n",
       "         0.31568044+0.j,  0.00411915+0.j, -0.05342318+0.j,  0.01485231+0.j,\n",
       "        -0.63797293+0.j,  0.66759741+0.j]),\n",
       " array([0.82389183, 0.13489226, 0.0527776 , 0.19768723, 0.65306164,\n",
       "        0.53457454, 0.84031513, 0.83342451, 0.31581569, 0.29038254]))"
      ]
     },
     "execution_count": 27,
     "metadata": {},
     "output_type": "execute_result"
    }
   ],
   "source": [
    "protect_carbon_parallel_noisy(single_carbon_H_noise, nf_add, 25, 0, 1, 100, 2)"
   ]
  },
  {
   "cell_type": "code",
   "execution_count": null,
   "metadata": {},
   "outputs": [],
   "source": []
  }
 ],
 "metadata": {
  "kernelspec": {
   "display_name": "Python 3",
   "language": "python",
   "name": "python3"
  },
  "language_info": {
   "codemirror_mode": {
    "name": "ipython",
    "version": 3
   },
   "file_extension": ".py",
   "mimetype": "text/x-python",
   "name": "python",
   "nbconvert_exporter": "python",
   "pygments_lexer": "ipython3",
   "version": "3.8.2"
  }
 },
 "nbformat": 4,
 "nbformat_minor": 4
}
