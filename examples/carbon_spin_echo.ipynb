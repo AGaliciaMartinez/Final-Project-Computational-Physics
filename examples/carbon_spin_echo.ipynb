{
 "cells": [
  {
   "cell_type": "code",
   "execution_count": 1,
   "metadata": {},
   "outputs": [
    {
     "name": "stdout",
     "output_type": "stream",
     "text": [
      "Populating the interactive namespace from numpy and matplotlib\n"
     ]
    }
   ],
   "source": [
    "%pylab inline"
   ]
  },
  {
   "cell_type": "code",
   "execution_count": 2,
   "metadata": {},
   "outputs": [],
   "source": [
    "import parmap\n",
    "from itertools import product\n",
    "import sys\n",
    "sys.path.append('../scripts/')\n",
    "sys.path.append('../examples/')\n",
    "\n",
    "from lindblad_solver import lindblad_solver\n",
    "from hamiltonians import single_carbon_H\n",
    "from utils import sx, sy, sz, si, init_qubit, normal_autocorr_generator, pi_rotation\n",
    "from dynamical_decoupling import dynamical_decoupling\n",
    "from matplotlib import pyplot as plt"
   ]
  },
  {
   "cell_type": "code",
   "execution_count": 11,
   "metadata": {},
   "outputs": [],
   "source": [
    "def protect_carbon(N0, nf_add, wL, wh, theta):\n",
    "\n",
    "    N, tau0 = pi_rotation(wL, wh, theta)\n",
    "\n",
    "    Nf = nf_add + 2*N*N0\n",
    "    dt = tau0/N0\n",
    "\n",
    "    rho_0 = np.kron(init_qubit([0,0,1]), init_qubit([1,0,0]))\n",
    "\n",
    "    tf = (Nf-N*N0)*dt\n",
    "    tlist = np.arange(0,tf,dt)\n",
    "\n",
    "    rho, _ = lindblad_solver(single_carbon_H, rho_0, tlist, wL, wh, theta)\n",
    "\n",
    "    rho = dynamical_decoupling(single_carbon_H, rho, N, tau0, N0, wL, wh, theta, e_ops=[])\n",
    "\n",
    "    rho, _ = lindblad_solver(single_carbon_H, rho, tlist, wL, wh, theta)\n",
    "\n",
    "    return 2*Nf*dt, (np.trace(rho @ np.kron(si,sx)))"
   ]
  },
  {
   "cell_type": "code",
   "execution_count": 29,
   "metadata": {
    "scrolled": true
   },
   "outputs": [
    {
     "name": "stdout",
     "output_type": "stream",
     "text": [
      "CPU times: user 14 µs, sys: 0 ns, total: 14 µs\n",
      "Wall time: 18.4 µs\n"
     ]
    }
   ],
   "source": [
    "%%time\n",
    "N0 = 25\n",
    "nf_add = 10\n",
    "wL = 1.0\n",
    "wh = 0.2\n",
    "theta = np.pi/4\n",
    "\n",
    "# t = []\n",
    "# proj_x = []\n",
    "# for i in range(1,100,1):\n",
    "#     time, Px = protect_carbon(N0, i, wL, wh, theta)\n",
    "#     t.append(time)\n",
    "#     proj_x.append(Px)\n",
    "\n",
    "# plt.plot(t, proj_x)\n",
    "# plt.show()"
   ]
  },
  {
   "cell_type": "code",
   "execution_count": 30,
   "metadata": {},
   "outputs": [
    {
     "name": "stderr",
     "output_type": "stream",
     "text": [
      "12it [00:03,  3.87it/s]                       \n",
      "/home/nico/.local/lib/python3.8/site-packages/numpy/core/_asarray.py:85: ComplexWarning: Casting complex values to real discards the imaginary part\n",
      "  return array(a, dtype, copy=False, order=order)\n"
     ]
    },
    {
     "data": {
      "image/png": "[encoded data removed]",
      "text/plain": [
       "<Figure size 432x288 with 1 Axes>"
      ]
     },
     "metadata": {
      "needs_background": "light"
     },
     "output_type": "display_data"
    }
   ],
   "source": [
    "nf_add = np.arange(1,100,10)\n",
    "parameters = list(\n",
    "    product([N0], nf_add, [wL], [wh], [theta]))\n",
    "results = parmap.starmap(protect_carbon,\n",
    "                          parameters,\n",
    "                          pm_pbar=True,\n",
    "                          pm_chunksize=3)\n",
    "\n",
    "results = np.array(results)\n",
    "plt.plot(results[:,0], results[:,1])\n",
    "plt.show()"
   ]
  },
  {
   "cell_type": "code",
   "execution_count": null,
   "metadata": {},
   "outputs": [],
   "source": []
  }
 ],
 "metadata": {
  "kernelspec": {
   "display_name": "Python 3",
   "language": "python",
   "name": "python3"
  },
  "language_info": {
   "codemirror_mode": {
    "name": "ipython",
    "version": 3
   },
   "file_extension": ".py",
   "mimetype": "text/x-python",
   "name": "python",
   "nbconvert_exporter": "python",
   "pygments_lexer": "ipython3",
   "version": "3.8.2"
  }
 },
 "nbformat": 4,
 "nbformat_minor": 4
}
