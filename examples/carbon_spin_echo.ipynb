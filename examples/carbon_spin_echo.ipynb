{
 "cells": [
  {
   "cell_type": "code",
   "execution_count": 1,
   "metadata": {},
   "outputs": [
    {
     "name": "stdout",
     "output_type": "stream",
     "text": [
      "Populating the interactive namespace from numpy and matplotlib\n"
     ]
    }
   ],
   "source": [
    "%pylab inline"
   ]
  },
  {
   "cell_type": "code",
   "execution_count": 2,
   "metadata": {},
   "outputs": [],
   "source": [
    "import parmap\n",
    "from itertools import product\n",
    "import sys\n",
    "sys.path.append('../scripts/')\n",
    "sys.path.append('../examples/')\n",
    "\n",
    "from lindblad_solver import lindblad_solver\n",
    "from hamiltonians import single_carbon_H\n",
    "from utils import sx, sy, sz, si, init_qubit, normal_autocorr_generator, pi_rotation\n",
    "from dynamical_decoupling import dynamical_decoupling\n",
    "from matplotlib import pyplot as plt"
   ]
  },
  {
   "cell_type": "code",
   "execution_count": 3,
   "metadata": {},
   "outputs": [],
   "source": [
    "def generate_parameters():\n",
    "    wL = 1.0\n",
    "    wh = 0.9\n",
    "    theta = np.pi/4\n",
    "\n",
    "    N, tau0 = pi_rotation(wL, wh, theta)\n",
    "    dt = tau0/N0\n",
    "    return dt\n",
    "    \n",
    "def protect_carbon(H, N0, nf_add, *args):\n",
    "\n",
    "    wL = 1.0\n",
    "    wh = 0.9\n",
    "    theta = np.pi/4\n",
    "    N, tau0 = pi_rotation(wL, wh, theta)\n",
    "\n",
    "    Nf = nf_add + 2*N*N0\n",
    "    dt = tau0/N0\n",
    "\n",
    "    rho_0 = np.kron(init_qubit([0,0,1]), init_qubit([1,0,0]))\n",
    "\n",
    "    tf = (Nf-2*N*N0)*dt\n",
    "\n",
    "    tlist = np.arange(0,tf,dt)\n",
    "    \n",
    "    rho, _ = lindblad_solver(H, rho_0, tlist, *args)\n",
    "    \n",
    "    rho = np.kron(sx,si) @ rho @ np.kron(sx,si)\n",
    "\n",
    "    rho = dynamical_decoupling(H, rho, N, tau0, N0, *args, e_ops=[])\n",
    "#     rho = np.kron(si,sx) @ rho @ np.kron(si,sx)\n",
    "\n",
    "    rho = np.kron(sx,si) @ rho @ np.kron(sx,si)\n",
    "\n",
    "    rho, _ = lindblad_solver(H, rho, tlist, *args)\n",
    "\n",
    "#     return 2*Nf*dt, (np.trace(rho @ np.kron(si,sx)))\n",
    "    return 2*tf, (np.trace(rho @ np.kron(si,sx)))"
   ]
  },
  {
   "cell_type": "code",
   "execution_count": 4,
   "metadata": {
    "scrolled": true
   },
   "outputs": [
    {
     "name": "stdout",
     "output_type": "stream",
     "text": [
      "CPU times: user 9 µs, sys: 1 µs, total: 10 µs\n",
      "Wall time: 16.5 µs\n"
     ]
    }
   ],
   "source": [
    "%%time\n",
    "N0 = 25\n",
    "wL = 1.0\n",
    "wh = 0.2\n",
    "theta = np.pi/4\n",
    "\n",
    "# t = []\n",
    "# proj_x = []\n",
    "# for i in range(5,100,10):\n",
    "#     time, Px = protect_carbon(single_carbon_H, N0, i, wL, wh, theta)\n",
    "#     t.append(time)\n",
    "#     proj_x.append(Px)\n",
    "\n",
    "# plt.plot(t, proj_x)\n",
    "# plt.show()"
   ]
  },
  {
   "cell_type": "code",
   "execution_count": null,
   "metadata": {},
   "outputs": [],
   "source": [
    "nf_add = np.arange(5,100,10)\n",
    "parameters = list(\n",
    "    product([single_carbon_H], [N0], nf_add, [wL], [wh], [theta]))\n",
    "results = parmap.starmap(protect_carbon,\n",
    "                          parameters,\n",
    "                          pm_pbar=True,\n",
    "                          pm_chunksize=3)\n",
    "\n",
    "results = np.array(results)\n",
    "plt.plot(results[:,0], results[:,1])\n",
    "plt.show()"
   ]
  },
  {
   "cell_type": "code",
   "execution_count": 5,
   "metadata": {},
   "outputs": [],
   "source": [
    "def single_carbon_H_noise(t, dw_iterator):\n",
    "    \"\"\"\n",
    "    Definition of the Hamiltonian for a single Carbon near a\n",
    "    Nitrogen-Vacancy centre in diamond.\n",
    "\n",
    "    Input:\n",
    "    wL - the Larmor frequency of precession, controlled by the\n",
    "    externally applied B field\n",
    "\n",
    "    wh - the hyperfine coupling term describing the strength of\n",
    "    spin-spin interaction between the Carbon and the NV\n",
    "\n",
    "    theta - the angle between the applied B field and the vector\n",
    "    pointing from the NV to the Carbon atom\n",
    "\n",
    "    Output:\n",
    "    The 4x4 Hamiltonian of the joint spin system.\n",
    "    \"\"\"\n",
    "    wL = 1.0\n",
    "    wh = 0.1\n",
    "    theta = np.pi/4\n",
    "    A = wh * np.cos(theta)\n",
    "    B = wh * np.sin(theta)\n",
    "    return (A + wL) * np.kron((si - sz) / 2, sz / 2) + B * np.kron(\n",
    "        (si - sz) / 2, sx / 2) + wL * np.kron((si + sz) / 2, sz / 2) + next(dw_iterator)*np.kron(si, sz)\n"
   ]
  },
  {
   "cell_type": "code",
   "execution_count": 6,
   "metadata": {},
   "outputs": [],
   "source": [
    "def protect_carbon_wrapper(H, nf_add, N0, mu, sigma, corr_time, seed):\n",
    "    e = []\n",
    "\n",
    "    # Initial state\n",
    "#     rho_0 = np.kron(init_qubit([0, 0, 1]), init_qubit([1,0,0]))\n",
    "\n",
    "    dt = generate_parameters()\n",
    "    t = []\n",
    "    e = []\n",
    "    \n",
    "    for nf in nf_add:\n",
    "        dw_it = normal_autocorr_generator(mu, sigma, corr_time / dt / 2, seed)\n",
    "        time , exp = protect_carbon(H, N0, nf, dw_it)\n",
    "        t.append(time)\n",
    "        e.append(exp)\n",
    "        \n",
    "    return t, e"
   ]
  },
  {
   "cell_type": "code",
   "execution_count": 8,
   "metadata": {},
   "outputs": [
    {
     "data": {
      "text/plain": [
       "([291.9009560040723,\n",
       "  293.1146813928627,\n",
       "  294.328406781653,\n",
       "  295.5421321704433,\n",
       "  296.7558575592336,\n",
       "  297.9695829480239,\n",
       "  299.18330833681426,\n",
       "  300.39703372560456,\n",
       "  301.6107591143949,\n",
       "  302.8244845031852],\n",
       " [(0.7573654456230147+0j),\n",
       "  (0.6005122344802285+0j),\n",
       "  (0.505724475087202+0j),\n",
       "  (0.45669260321987726+0j),\n",
       "  (0.9687420782488524+0j),\n",
       "  (0.5386936866965174+0j),\n",
       "  (-0.8937383113130888+0j),\n",
       "  (0.8482768137868844+0j),\n",
       "  (-0.9537886172018719+0j),\n",
       "  (0.377214869489113+0j)])"
      ]
     },
     "execution_count": 8,
     "metadata": {},
     "output_type": "execute_result"
    }
   ],
   "source": [
    "nf_add = np.arange(5,100,10)\n",
    "protect_carbon_wrapper(single_carbon_H_noise, nf_add, 25, 0, 1, 100, 1)"
   ]
  },
  {
   "cell_type": "code",
   "execution_count": 7,
   "metadata": {},
   "outputs": [],
   "source": [
    "def protect_carbon_parallel_noisy(H, nf_add, N0, mu, sigma, corr_time, repetitions):\n",
    "    seed_list = np.arange(repetitions)\n",
    "\n",
    "    values = list(product([H], [nf_add], [N0], [mu], [sigma], [corr_time], seed_list))\n",
    "\n",
    "    results = parmap.starmap(protect_carbon_wrapper, values, pm_chunksize=3, pm_pbar=True)\n",
    "    results = np.array(results)\n",
    "    time = results[0,0,:]\n",
    "    exp_mean = results[:,1,:].mean(axis=0)\n",
    "    exp_std = results[:,1,:].std(axis=0) / np.sqrt(repetitions - 1)\n",
    "    print(results.shape)\n",
    "\n",
    "    return time, exp_mean, exp_std"
   ]
  },
  {
   "cell_type": "code",
   "execution_count": 10,
   "metadata": {},
   "outputs": [
    {
     "name": "stderr",
     "output_type": "stream",
     "text": [
      "102it [01:07,  1.52it/s]                        "
     ]
    },
    {
     "name": "stdout",
     "output_type": "stream",
     "text": [
      "(100, 2, 10)\n"
     ]
    },
    {
     "name": "stderr",
     "output_type": "stream",
     "text": [
      "\n"
     ]
    }
   ],
   "source": [
    "nf_add = np.arange(5,1000,100)\n",
    "time, exp_mean, exp_std = protect_carbon_parallel_noisy(single_carbon_H_noise, nf_add, 25, 0, 0.02, 10000, 100)"
   ]
  },
  {
   "cell_type": "code",
   "execution_count": 11,
   "metadata": {},
   "outputs": [
    {
     "data": {
      "image/png": "[encoded data removed]",
      "text/plain": [
       "<Figure size 432x288 with 1 Axes>"
      ]
     },
     "metadata": {
      "needs_background": "light"
     },
     "output_type": "display_data"
    }
   ],
   "source": [
    "plt.errorbar(time, exp_mean, exp_std)\n",
    "plt.show()"
   ]
  },
  {
   "cell_type": "code",
   "execution_count": null,
   "metadata": {},
   "outputs": [],
   "source": []
  }
 ],
 "metadata": {
  "kernelspec": {
   "display_name": "Python 3",
   "language": "python",
   "name": "python3"
  },
  "language_info": {
   "codemirror_mode": {
    "name": "ipython",
    "version": 3
   },
   "file_extension": ".py",
   "mimetype": "text/x-python",
   "name": "python",
   "nbconvert_exporter": "python",
   "pygments_lexer": "ipython3",
   "version": "3.8.2"
  }
 },
 "nbformat": 4,
 "nbformat_minor": 4
}
