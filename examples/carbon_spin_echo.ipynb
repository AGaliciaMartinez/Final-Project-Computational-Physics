{
 "cells": [
  {
   "cell_type": "code",
   "execution_count": 1,
   "metadata": {},
   "outputs": [
    {
     "name": "stdout",
     "output_type": "stream",
     "text": [
      "Populating the interactive namespace from numpy and matplotlib\n"
     ]
    }
   ],
   "source": [
    "%pylab inline"
   ]
  },
  {
   "cell_type": "code",
   "execution_count": 2,
   "metadata": {},
   "outputs": [],
   "source": [
    "import parmap\n",
    "from itertools import product\n",
    "import sys\n",
    "sys.path.append('../scripts/')\n",
    "sys.path.append('../examples/')\n",
    "\n",
    "from lindblad_solver import lindblad_solver\n",
    "from hamiltonians import single_carbon_H\n",
    "from utils import sx, sy, sz, si, init_qubit, normal_autocorr_generator, pi_rotation\n",
    "from dynamical_decoupling import dynamical_decoupling\n",
    "from matplotlib import pyplot as plt"
   ]
  },
  {
   "cell_type": "code",
   "execution_count": 3,
   "metadata": {},
   "outputs": [],
   "source": [
    "def generate_parameters(N0):\n",
    "    wL = 1.0\n",
    "    wh = 1.06\n",
    "    theta = np.pi/4\n",
    "\n",
    "    N, tau0, phi = pi_rotation(wL, wh, theta)\n",
    "    dt = tau0/N0\n",
    "    return dt\n",
    "    \n",
    "def protect_carbon(H, N0, nf_add, *args, e_ops=[]):\n",
    "#     e_ops = [np.kron(si, sx), np.kron(si, sy), np.kron(si, sz),np.kron(sx, si), np.kron(sy, si), np.kron(sz, si)]\n",
    "\n",
    "    wL = 1.0\n",
    "    wh = 1.06\n",
    "    theta = np.pi/4\n",
    "    N, tau0,phi = pi_rotation(wL, wh, theta)\n",
    "    \n",
    "\n",
    "    Nf = nf_add + 2*N*N0\n",
    "    dt = tau0/N0\n",
    "\n",
    "    rho = np.kron(init_qubit([0,0,1]), init_qubit([1,0,0]))\n",
    "\n",
    "    tf = (Nf-2*N*N0)*dt\n",
    "    tlist = np.arange(0,tf,dt)\n",
    "    \n",
    "    exp = []\n",
    "    \n",
    "    if len(e_ops):\n",
    "        rho, e = lindblad_solver(H, rho, tlist, *args,e_ops=e_ops)  \n",
    "        exp.append(e)   \n",
    "    else:\n",
    "        rho, e = lindblad_solver(H, rho, tlist, *args,e_ops=[])  \n",
    "\n",
    "    \n",
    "    rho = np.kron(sx,si) @ rho @ np.kron(sx,si)\n",
    "    if len(e_ops):\n",
    "        rho,_,e = dynamical_decoupling(H, rho, N, tau0, N0, *args,e_ops=e_ops)\n",
    "        exp.append(e)    \n",
    "    else:\n",
    "        rho = dynamical_decoupling(H, rho, N, tau0, N0, *args,e_ops=[])\n",
    "    rho = np.kron(sx,si) @ rho @ np.kron(sx,si)\n",
    "    \n",
    "    \n",
    "    if len(e_ops):\n",
    "        rho, e = lindblad_solver(H, rho, tlist, *args,e_ops=e_ops)  \n",
    "        exp.append(e)   \n",
    "    else:\n",
    "        rho, e = lindblad_solver(H, rho, tlist, *args,e_ops=[])  \n",
    "\n",
    "    if len(e_ops):\n",
    "        return 2*tf, (np.trace(rho @ np.kron(si,sx))), exp\n",
    "    else:\n",
    "        return 2*Nf*dt, (np.trace(rho @ np.kron(si,sx)))"
   ]
  },
  {
   "cell_type": "code",
   "execution_count": 7,
   "metadata": {
    "scrolled": true
   },
   "outputs": [
    {
     "name": "stderr",
     "output_type": "stream",
     "text": [
      "../scripts/lindblad_solver.py:98: ComplexWarning: Casting complex values to real discards the imaginary part\n",
      "  expectations[:, i] = np.trace(rho @ e_ops_np, axis1=1, axis2=2)\n"
     ]
    },
    {
     "data": {
      "application/vnd.jupyter.widget-view+json": {
       "model_id": "90680b0a247a4a39ab614074e4e44f26",
       "version_major": 2,
       "version_minor": 0
      },
      "text/plain": [
       "Canvas(toolbar=Toolbar(toolitems=[('Home', 'Reset original view', 'home', 'home'), ('Back', 'Back to previous …"
      ]
     },
     "metadata": {},
     "output_type": "display_data"
    },
    {
     "name": "stderr",
     "output_type": "stream",
     "text": [
      "/opt/conda/lib/python3.8/site-packages/numpy/core/_asarray.py:85: ComplexWarning: Casting complex values to real discards the imaginary part\n",
      "  return array(a, dtype, copy=False, order=order)\n"
     ]
    }
   ],
   "source": [
    "%matplotlib widget\n",
    "N0 = 5\n",
    "wL = 1.0\n",
    "wh = 1.06\n",
    "theta = np.pi/4\n",
    "\n",
    "\n",
    "e_ops = [np.kron(si, sx), np.kron(si, sy), np.kron(si, sz)]\n",
    "\n",
    "t = []\n",
    "proj_x = []\n",
    "exp = []\n",
    "for i in range(5,100,10):\n",
    "    time, Px, e = protect_carbon(single_carbon_H, N0, i, wL, wh, theta, e_ops = e_ops)\n",
    "    t.append(time)\n",
    "    proj_x.append(Px)\n",
    "    exp.append(e)\n",
    "plt.plot(t, proj_x)\n",
    "plt.show()"
   ]
  },
  {
   "cell_type": "code",
   "execution_count": 4,
   "metadata": {},
   "outputs": [
    {
     "name": "stderr",
     "output_type": "stream",
     "text": [
      "96it [00:00, 172.35it/s]              \n"
     ]
    },
    {
     "data": {
      "application/vnd.jupyter.widget-view+json": {
       "model_id": "ea069ed82df1451ab2cf8e383f49cda8",
       "version_major": 2,
       "version_minor": 0
      },
      "text/plain": [
       "Canvas(toolbar=Toolbar(toolitems=[('Home', 'Reset original view', 'home', 'home'), ('Back', 'Back to previous …"
      ]
     },
     "metadata": {},
     "output_type": "display_data"
    },
    {
     "name": "stderr",
     "output_type": "stream",
     "text": [
      "/opt/conda/lib/python3.8/site-packages/numpy/core/_asarray.py:85: ComplexWarning: Casting complex values to real discards the imaginary part\n",
      "  return array(a, dtype, copy=False, order=order)\n"
     ]
    }
   ],
   "source": [
    "%matplotlib widget\n",
    "nf_add = np.arange(5,100,1)\n",
    "N0 = 5\n",
    "wL = 1.0\n",
    "wh = 1.06\n",
    "theta = np.pi/4\n",
    "e_ops = [np.kron(si, sx), np.kron(si, sy), np.kron(si, sz),np.kron(sx, si), np.kron(sy, si), np.kron(sz, si)]\n",
    "\n",
    "parameters = list(\n",
    "    product([single_carbon_H], [N0], nf_add, [wL], [wh], [theta]))\n",
    "\n",
    "\n",
    "results = parmap.starmap(protect_carbon,\n",
    "                          parameters,\n",
    "                          pm_pbar=True,\n",
    "                          pm_chunksize=3)\n",
    "\n",
    "results = np.array(results)\n",
    "plt.plot(results[:,0], results[:,1])\n",
    "plt.ylim(0,1.1)\n",
    "plt.show()"
   ]
  },
  {
   "cell_type": "code",
   "execution_count": 5,
   "metadata": {},
   "outputs": [
    {
     "ename": "IndexError",
     "evalue": "index 2 is out of bounds for axis 1 with size 2",
     "output_type": "error",
     "traceback": [
      "\u001b[0;31m---------------------------------------------------------------------------\u001b[0m",
      "\u001b[0;31mIndexError\u001b[0m                                Traceback (most recent call last)",
      "\u001b[0;32m<ipython-input-5-648f7b226635>\u001b[0m in \u001b[0;36m<module>\u001b[0;34m\u001b[0m\n\u001b[1;32m      1\u001b[0m \u001b[0mget_ipython\u001b[0m\u001b[0;34m(\u001b[0m\u001b[0;34m)\u001b[0m\u001b[0;34m.\u001b[0m\u001b[0mrun_line_magic\u001b[0m\u001b[0;34m(\u001b[0m\u001b[0;34m'matplotlib'\u001b[0m\u001b[0;34m,\u001b[0m \u001b[0;34m'widget'\u001b[0m\u001b[0;34m)\u001b[0m\u001b[0;34m\u001b[0m\u001b[0;34m\u001b[0m\u001b[0m\n\u001b[1;32m      2\u001b[0m \u001b[0mn\u001b[0m \u001b[0;34m=\u001b[0m \u001b[0;34m[\u001b[0m\u001b[0;36m0\u001b[0m\u001b[0;34m]\u001b[0m\u001b[0;34m\u001b[0m\u001b[0;34m\u001b[0m\u001b[0m\n\u001b[0;32m----> 3\u001b[0;31m \u001b[0;32mfor\u001b[0m \u001b[0mresult\u001b[0m \u001b[0;32min\u001b[0m \u001b[0mresults\u001b[0m\u001b[0;34m[\u001b[0m\u001b[0;34m-\u001b[0m\u001b[0;36m1\u001b[0m\u001b[0;34m,\u001b[0m\u001b[0;36m2\u001b[0m\u001b[0;34m]\u001b[0m\u001b[0;34m:\u001b[0m\u001b[0;34m\u001b[0m\u001b[0;34m\u001b[0m\u001b[0m\n\u001b[0m\u001b[1;32m      4\u001b[0m     \u001b[0mprint\u001b[0m\u001b[0;34m(\u001b[0m\u001b[0mresult\u001b[0m\u001b[0;34m.\u001b[0m\u001b[0mshape\u001b[0m\u001b[0;34m)\u001b[0m\u001b[0;34m\u001b[0m\u001b[0;34m\u001b[0m\u001b[0m\n\u001b[1;32m      5\u001b[0m     \u001b[0mn\u001b[0m \u001b[0;34m=\u001b[0m \u001b[0mnp\u001b[0m\u001b[0;34m.\u001b[0m\u001b[0marray\u001b[0m\u001b[0;34m(\u001b[0m\u001b[0mrange\u001b[0m\u001b[0;34m(\u001b[0m\u001b[0mresult\u001b[0m\u001b[0;34m.\u001b[0m\u001b[0mshape\u001b[0m\u001b[0;34m[\u001b[0m\u001b[0;36m1\u001b[0m\u001b[0;34m]\u001b[0m\u001b[0;34m)\u001b[0m\u001b[0;34m)\u001b[0m \u001b[0;34m+\u001b[0m \u001b[0mn\u001b[0m\u001b[0;34m[\u001b[0m\u001b[0;34m-\u001b[0m\u001b[0;36m1\u001b[0m\u001b[0;34m]\u001b[0m\u001b[0;34m\u001b[0m\u001b[0;34m\u001b[0m\u001b[0m\n",
      "\u001b[0;31mIndexError\u001b[0m: index 2 is out of bounds for axis 1 with size 2"
     ]
    }
   ],
   "source": [
    "%matplotlib widget\n",
    "n = [0]\n",
    "for result in results[-1,2]:\n",
    "    print(result.shape)\n",
    "    n = np.array(range(result.shape[1])) + n[-1]\n",
    "    plt.plot(n, result[0,:])"
   ]
  },
  {
   "cell_type": "code",
   "execution_count": 6,
   "metadata": {},
   "outputs": [],
   "source": [
    "def single_carbon_H_noise(t, dw_iterator):\n",
    "    \"\"\"\n",
    "    Definition of the Hamiltonian for a single Carbon near a\n",
    "    Nitrogen-Vacancy centre in diamond.\n",
    "\n",
    "    Input:\n",
    "    wL - the Larmor frequency of precession, controlled by the\n",
    "    externally applied B field\n",
    "\n",
    "    wh - the hyperfine coupling term describing the strength of\n",
    "    spin-spin interaction between the Carbon and the NV\n",
    "\n",
    "    theta - the angle between the applied B field and the vector\n",
    "    pointing from the NV to the Carbon atom\n",
    "\n",
    "    Output:\n",
    "    The 4x4 Hamiltonian of the joint spin system.\n",
    "    \"\"\"\n",
    "    dw = next(dw_iterator)\n",
    "    wL = 1.0 + dw\n",
    "    wh = 1.06 \n",
    "    theta = np.pi/4\n",
    "    A = wh * np.cos(theta)\n",
    "    B = wh * np.sin(theta)\n",
    "    return (A + wL ) * np.kron((si - sz) / 2, sz / 2) + (B) * np.kron(\n",
    "        (si - sz) / 2, sx / 2) + (wL ) * np.kron((si + sz) / 2, sz / 2) "
   ]
  },
  {
   "cell_type": "code",
   "execution_count": 7,
   "metadata": {},
   "outputs": [],
   "source": [
    "def protect_carbon_wrapper(H, nf_add, N0, mu, sigma, corr_time, seed):\n",
    "    e = []\n",
    "\n",
    "    # Initial state\n",
    "#     rho_0 = np.kron(init_qubit([0, 0, 1]), init_qubit([1,0,0]))\n",
    "\n",
    "    dt = generate_parameters(N0)\n",
    "    t = []\n",
    "    e = []\n",
    "    \n",
    "    for nf in nf_add:\n",
    "        dw_it = normal_autocorr_generator(mu, sigma, corr_time / dt / 2, seed)\n",
    "        time , exp = protect_carbon(H, N0, nf, dw_it)\n",
    "        t.append(time)\n",
    "        e.append(exp)\n",
    "        \n",
    "    return t, e"
   ]
  },
  {
   "cell_type": "code",
   "execution_count": 8,
   "metadata": {},
   "outputs": [
    {
     "data": {
      "text/plain": [
       "([37.019957576221024,\n",
       "  37.93403060279438,\n",
       "  38.84810362936774,\n",
       "  39.7621766559411,\n",
       "  40.67624968251446,\n",
       "  41.590322709087815,\n",
       "  42.50439573566118,\n",
       "  43.41846876223453,\n",
       "  44.332541788807895,\n",
       "  45.24661481538125],\n",
       " [(0.6469773244006066+0j),\n",
       "  (0.2869255907024334+0j),\n",
       "  (-0.21494225414633078+0j),\n",
       "  (-0.6382041270054003+0j),\n",
       "  (-0.9697895559046624+0j),\n",
       "  (-0.8641761381573336+0j),\n",
       "  (-0.4908894834701483+0j),\n",
       "  (-0.12510923122119114+0j),\n",
       "  (-0.04867262488386793+0j),\n",
       "  (-0.3851594127342143+0j)])"
      ]
     },
     "execution_count": 8,
     "metadata": {},
     "output_type": "execute_result"
    }
   ],
   "source": [
    "nf_add = np.arange(5,100,10)\n",
    "protect_carbon_wrapper(single_carbon_H_noise, nf_add, 25, 0, 1, 100, 1)"
   ]
  },
  {
   "cell_type": "code",
   "execution_count": 9,
   "metadata": {},
   "outputs": [],
   "source": [
    "def protect_carbon_parallel_noisy(H, nf_add, N0, mu, sigma, corr_time, repetitions):\n",
    "    seed_list = np.arange(repetitions)\n",
    "\n",
    "    values = list(product([H], [nf_add], [N0], [mu], [sigma], [corr_time], seed_list))\n",
    "\n",
    "    results = parmap.starmap(protect_carbon_wrapper, values, pm_chunksize=1, pm_pbar=True)\n",
    "    results = np.array(results)\n",
    "    time = results[0,0,:]\n",
    "    exp_mean = results[:,1,:].mean(axis=0)\n",
    "    exp_std = results[:,1,:].std(axis=0) / np.sqrt(repetitions - 1)\n",
    "    print(results.shape)\n",
    "\n",
    "    return time, exp_mean, exp_std"
   ]
  },
  {
   "cell_type": "code",
   "execution_count": 10,
   "metadata": {},
   "outputs": [
    {
     "name": "stderr",
     "output_type": "stream",
     "text": [
      "100%|██████████| 100/100 [04:03<00:00,  2.44s/it]"
     ]
    },
    {
     "name": "stdout",
     "output_type": "stream",
     "text": [
      "(100, 2, 50)\n"
     ]
    },
    {
     "name": "stderr",
     "output_type": "stream",
     "text": [
      "\n"
     ]
    }
   ],
   "source": [
    "nf_add = np.arange(5,2000,40)\n",
    "time, exp_mean, exp_std = protect_carbon_parallel_noisy(single_carbon_H_noise, nf_add, 5, 0, 0.05, 100000, 100)"
   ]
  },
  {
   "cell_type": "code",
   "execution_count": 11,
   "metadata": {},
   "outputs": [
    {
     "data": {
      "application/vnd.jupyter.widget-view+json": {
       "model_id": "d42afaf507244ffeb6783881879efbc9",
       "version_major": 2,
       "version_minor": 0
      },
      "text/plain": [
       "Canvas(toolbar=Toolbar(toolitems=[('Home', 'Reset original view', 'home', 'home'), ('Back', 'Back to previous …"
      ]
     },
     "metadata": {},
     "output_type": "display_data"
    },
    {
     "name": "stderr",
     "output_type": "stream",
     "text": [
      "/opt/conda/lib/python3.8/site-packages/numpy/core/_asarray.py:85: ComplexWarning: Casting complex values to real discards the imaginary part\n",
      "  return array(a, dtype, copy=False, order=order)\n"
     ]
    }
   ],
   "source": [
    "%matplotlib widget\n",
    "plt.errorbar(time, exp_mean, exp_std)\n",
    "plt.ylim(0,1.1)\n",
    "plt.show()"
   ]
  },
  {
   "cell_type": "code",
   "execution_count": 19,
   "metadata": {},
   "outputs": [
    {
     "data": {
      "application/vnd.jupyter.widget-view+json": {
       "model_id": "dc3b54592a1b4e078888987385990a40",
       "version_major": 2,
       "version_minor": 0
      },
      "text/plain": [
       "Canvas(toolbar=Toolbar(toolitems=[('Home', 'Reset original view', 'home', 'home'), ('Back', 'Back to previous …"
      ]
     },
     "metadata": {},
     "output_type": "display_data"
    },
    {
     "name": "stderr",
     "output_type": "stream",
     "text": [
      "/opt/conda/lib/python3.8/site-packages/numpy/core/_asarray.py:85: ComplexWarning: Casting complex values to real discards the imaginary part\n",
      "  return array(a, dtype, copy=False, order=order)\n"
     ]
    }
   ],
   "source": [
    "%matplotlib widget\n",
    "data = np.load('../script_output/protecting_carbon_1.npz')\n",
    "time_1 = data['time']\n",
    "exp_mean_1 = data['exp_mean']\n",
    "exp_std_1= data['exp_std']\n",
    "plt.errorbar(time_1, exp_mean_1, exp_std_1)\n",
    "plt.ylim(0,1.1)\n",
    "plt.show()"
   ]
  },
  {
   "cell_type": "code",
   "execution_count": 31,
   "metadata": {},
   "outputs": [],
   "source": [
    "np.savez('../script_output/protecting_carbon_1',time=time,exp_mean = exp_mean, exp_std = exp_std)"
   ]
  },
  {
   "cell_type": "code",
   "execution_count": 12,
   "metadata": {},
   "outputs": [],
   "source": [
    "def protect_carbon_2(H, N0, nf_add, sequences, *args, e_ops=[]):\n",
    "#     e_ops = [np.kron(si, sx), np.kron(si, sy), np.kron(si, sz),np.kron(sx, si), np.kron(sy, si), np.kron(sz, si)]\n",
    "\n",
    "    wL = 1.0\n",
    "    wh = 1.06\n",
    "    theta = np.pi/4\n",
    "    N, tau0, phi = pi_rotation(wL, wh, theta)\n",
    "    \n",
    "\n",
    "    Nf = nf_add + N*N0\n",
    "    dt = tau0/N0\n",
    "\n",
    "    rho = np.kron(init_qubit([0,0,1]), init_qubit([1,0,0]))\n",
    "\n",
    "    tf = nf_add*dt\n",
    "    tlist = np.arange(0,tf,dt)\n",
    "    \n",
    "    exp = []\n",
    "    # 1st sequence\n",
    "    # free evol\n",
    "    for i in range(sequences):\n",
    "        if len(e_ops):\n",
    "            rho, e = lindblad_solver(H, rho, tlist, *args,e_ops=e_ops)  \n",
    "            exp.append(e)   \n",
    "        else:\n",
    "            rho, e = lindblad_solver(H, rho, tlist, *args,e_ops=[])  \n",
    "\n",
    "        # Pi rot\n",
    "        rho = np.kron(sx,si) @ rho @ np.kron(sx,si)\n",
    "        if len(e_ops):\n",
    "            rho,_,e = dynamical_decoupling(H, rho, N, tau0, N0, *args,e_ops=e_ops)\n",
    "            exp.append(e)    \n",
    "        else:\n",
    "            rho = dynamical_decoupling(H, rho, N, tau0, N0, *args,e_ops=[])\n",
    "        rho = np.kron(sx,si) @ rho @ np.kron(sx,si)\n",
    "\n",
    "        #Free evol\n",
    "        if len(e_ops):\n",
    "            rho, e = lindblad_solver(H, rho, tlist, *args,e_ops=e_ops)  \n",
    "            exp.append(e)   \n",
    "        else:\n",
    "            rho, e = lindblad_solver(H, rho, tlist, *args,e_ops=[])  \n",
    "\n",
    "\n",
    "\n",
    "  \n",
    "\n",
    "    \n",
    "    # Retrun values\n",
    "\n",
    "    if len(e_ops):\n",
    "        return 2*sequences*Nf*dt, 1/2 + (np.trace(rho @ np.kron(si,sx)))/2, exp\n",
    "    else:\n",
    "        return 2*sequences*Nf*dt, 1/2 + (np.trace(rho @ np.kron(si,sx)))/2\n",
    "    \n",
    "def protect_carbon_wrapper_2(H, nf_add,sequences, N0, mu, sigma, corr_time, seed):\n",
    "    e = []\n",
    "\n",
    "    # Initial state\n",
    "#     rho_0 = np.kron(init_qubit([0, 0, 1]), init_qubit([1,0,0]))\n",
    "\n",
    "    dt = generate_parameters(N0)\n",
    "    t = []\n",
    "    e = []\n",
    "    \n",
    "    for nf in nf_add:\n",
    "        dw_it = normal_autocorr_generator(mu, sigma, corr_time / dt / 2, seed)\n",
    "        time , exp = protect_carbon_2(H, N0, nf,sequences, dw_it)\n",
    "        t.append(time)\n",
    "        e.append(exp)\n",
    "        \n",
    "    return t, e\n",
    "\n",
    "def protect_carbon_parallel_noisy_2(H, nf_add,sequences, N0, mu, sigma, corr_time, repetitions):\n",
    "    seed_list = np.arange(repetitions)\n",
    "\n",
    "    values = list(product([H], [nf_add],[sequences], [N0], [mu], [sigma], [corr_time], seed_list))\n",
    "\n",
    "    results = parmap.starmap(protect_carbon_wrapper_2, values, pm_chunksize=1, pm_pbar=True)\n",
    "    results = np.array(results)\n",
    "    time = results[0,0,:]\n",
    "    exp_mean = results[:,1,:].mean(axis=0)\n",
    "    exp_std = results[:,1,:].std(axis=0) / np.sqrt(repetitions - 1)\n",
    "    print(results.shape)\n",
    "\n",
    "    return time, exp_mean, exp_std"
   ]
  },
  {
   "cell_type": "code",
   "execution_count": 13,
   "metadata": {},
   "outputs": [
    {
     "name": "stderr",
     "output_type": "stream",
     "text": [
      "100%|██████████| 96/96 [02:08<00:00,  1.34s/it]"
     ]
    },
    {
     "name": "stdout",
     "output_type": "stream",
     "text": [
      "(96, 2, 10)\n"
     ]
    },
    {
     "name": "stderr",
     "output_type": "stream",
     "text": [
      "\n"
     ]
    }
   ],
   "source": [
    "#tester box\n",
    "nf_add = np.arange(5,3000,300)\n",
    "time_2, exp_mean_2, exp_std_2 = protect_carbon_parallel_noisy_2(single_carbon_H_noise, nf_add, 2, 5, 0, 0.05, 100000, 96)\n",
    "np.savez('../script_output/protecting_carbon_sequences_2',time=time_2,exp_mean = exp_mean_2, exp_std = exp_std_2)"
   ]
  },
  {
   "cell_type": "code",
   "execution_count": null,
   "metadata": {},
   "outputs": [],
   "source": []
  },
  {
   "cell_type": "code",
   "execution_count": null,
   "metadata": {},
   "outputs": [],
   "source": []
  },
  {
   "cell_type": "code",
   "execution_count": null,
   "metadata": {},
   "outputs": [],
   "source": []
  },
  {
   "cell_type": "code",
   "execution_count": null,
   "metadata": {},
   "outputs": [],
   "source": []
  },
  {
   "cell_type": "code",
   "execution_count": null,
   "metadata": {},
   "outputs": [
    {
     "name": "stderr",
     "output_type": "stream",
     "text": [
      " 61%|██████    | 582/960 [46:11<15:14,  2.42s/it]  "
     ]
    }
   ],
   "source": [
    "nf_add = np.arange(5,3000,75)\n",
    "time_2, exp_mean_2, exp_std_2 = protect_carbon_parallel_noisy_2(single_carbon_H_noise, nf_add, 2, 5, 0, 0.05, 100000, 960)\n",
    "np.savez('../script_output/protecting_carbon_sequences_2',time=time_2,exp_mean = exp_mean_2, exp_std = exp_std_2)"
   ]
  },
  {
   "cell_type": "code",
   "execution_count": 65,
   "metadata": {},
   "outputs": [
    {
     "name": "stderr",
     "output_type": "stream",
     "text": [
      "100%|██████████| 960/960 [27:30<00:00,  1.72s/it]  "
     ]
    },
    {
     "name": "stdout",
     "output_type": "stream",
     "text": [
      "(960, 2, 38)\n"
     ]
    },
    {
     "name": "stderr",
     "output_type": "stream",
     "text": [
      "\n"
     ]
    }
   ],
   "source": [
    "%time\n",
    "nf_add = np.arange(5,1500,40)\n",
    "time_4, exp_mean_4, exp_std_4 = protect_carbon_parallel_noisy_2(single_carbon_H_noise, nf_add,4, 5, 0, 0.05, 100000, 960)\n",
    "np.savez('../script_output/protecting_carbon_sequences_4',time=time_4,exp_mean = exp_mean_4, exp_std = exp_std_4)"
   ]
  },
  {
   "cell_type": "code",
   "execution_count": 67,
   "metadata": {},
   "outputs": [
    {
     "name": "stderr",
     "output_type": "stream",
     "text": [
      "100%|██████████| 960/960 [48:50<00:00,  3.05s/it]  "
     ]
    },
    {
     "name": "stdout",
     "output_type": "stream",
     "text": [
      "(960, 2, 50)\n"
     ]
    },
    {
     "name": "stderr",
     "output_type": "stream",
     "text": [
      "\n"
     ]
    }
   ],
   "source": [
    "nf_add = np.arange(5,1000,20)\n",
    "time_8, exp_mean_8, exp_std_8 = protect_carbon_parallel_noisy_2(single_carbon_H_noise, nf_add,8, 5, 0, 0.05, 100000, 960)\n",
    "np.savez('../script_output/protecting_carbon_sequences_8',time=time_8,exp_mean = exp_mean_8, exp_std = exp_std_8)"
   ]
  },
  {
   "cell_type": "code",
   "execution_count": null,
   "metadata": {},
   "outputs": [],
   "source": [
    "nf_add = np.arange(5,500,10)\n",
    "time_16, exp_mean_16, exp_std_16 = protect_carbon_parallel_noisy_2(single_carbon_H_noise, nf_add,16, 5, 0, 0.05, 100000, 960)\n",
    "np.savez('../script_output/protecting_carbon_sequences_16',time=time_16,exp_mean = exp_mean_16, exp_std = exp_std_16)"
   ]
  },
  {
   "cell_type": "code",
   "execution_count": 71,
   "metadata": {},
   "outputs": [
    {
     "data": {
      "application/vnd.jupyter.widget-view+json": {
       "model_id": "bbeaf4f5dc72411ba2776e89ef07c7b1",
       "version_major": 2,
       "version_minor": 0
      },
      "text/plain": [
       "Canvas(toolbar=Toolbar(toolitems=[('Home', 'Reset original view', 'home', 'home'), ('Back', 'Back to previous …"
      ]
     },
     "metadata": {},
     "output_type": "display_data"
    },
    {
     "name": "stderr",
     "output_type": "stream",
     "text": [
      "/opt/conda/lib/python3.8/site-packages/numpy/core/_asarray.py:85: ComplexWarning: Casting complex values to real discards the imaginary part\n",
      "  return array(a, dtype, copy=False, order=order)\n"
     ]
    }
   ],
   "source": [
    "%matplotlib widget\n",
    "plt.errorbar(time_1, exp_mean_1, exp_std_1)\n",
    "plt.errorbar(time_2, exp_mean_2, exp_std_2)\n",
    "plt.errorbar(time_4, exp_mean_4, exp_std_4)\n",
    "\n",
    "plt.xscale('log')\n",
    "plt.show()"
   ]
  },
  {
   "cell_type": "code",
   "execution_count": 61,
   "metadata": {},
   "outputs": [
    {
     "name": "stderr",
     "output_type": "stream",
     "text": [
      "100%|██████████| 96/96 [10:02<00:00,  6.28s/it]  "
     ]
    },
    {
     "name": "stdout",
     "output_type": "stream",
     "text": [
      "(96, 2, 100)\n"
     ]
    },
    {
     "name": "stderr",
     "output_type": "stream",
     "text": [
      "\n"
     ]
    }
   ],
   "source": [
    "nf_add = np.arange(5,1000,10)\n",
    "time_4, exp_mean_4, exp_std_4 = protect_carbon_parallel_noisy_2(single_carbon_H_noise, nf_add,4, 5, 0, 0.05, 100000, 96)\n"
   ]
  },
  {
   "cell_type": "code",
   "execution_count": 53,
   "metadata": {},
   "outputs": [
    {
     "data": {
      "text/plain": [
       "array([18.85275617+0.j, 18.9670153 +0.j, 19.08127443+0.j, 19.19553356+0.j,\n",
       "       19.30979269+0.j])"
      ]
     },
     "execution_count": 53,
     "metadata": {},
     "output_type": "execute_result"
    }
   ],
   "source": [
    "time_4"
   ]
  },
  {
   "cell_type": "code",
   "execution_count": null,
   "metadata": {},
   "outputs": [],
   "source": []
  }
 ],
 "metadata": {
  "kernelspec": {
   "display_name": "Python 3",
   "language": "python",
   "name": "python3"
  },
  "language_info": {
   "codemirror_mode": {
    "name": "ipython",
    "version": 3
   },
   "file_extension": ".py",
   "mimetype": "text/x-python",
   "name": "python",
   "nbconvert_exporter": "python",
   "pygments_lexer": "ipython3",
   "version": "3.8.2"
  }
 },
 "nbformat": 4,
 "nbformat_minor": 4
}
